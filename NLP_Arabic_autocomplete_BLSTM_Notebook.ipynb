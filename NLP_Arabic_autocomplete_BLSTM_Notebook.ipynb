{
  "nbformat": 4,
  "nbformat_minor": 0,
  "metadata": {
    "colab": {
      "provenance": [],
      "include_colab_link": true
    },
    "kernelspec": {
      "name": "python3",
      "display_name": "Python 3"
    },
    "language_info": {
      "name": "python"
    },
    "widgets": {
      "application/vnd.jupyter.widget-state+json": {
        "ec9ea8f01edc4a90964df4ff50c5afb9": {
          "model_module": "@jupyter-widgets/controls",
          "model_name": "HBoxModel",
          "model_module_version": "1.5.0",
          "state": {
            "_dom_classes": [],
            "_model_module": "@jupyter-widgets/controls",
            "_model_module_version": "1.5.0",
            "_model_name": "HBoxModel",
            "_view_count": null,
            "_view_module": "@jupyter-widgets/controls",
            "_view_module_version": "1.5.0",
            "_view_name": "HBoxView",
            "box_style": "",
            "children": [
              "IPY_MODEL_0c2a83e08d73471188654c0c30f0cb61",
              "IPY_MODEL_19023b3542f4454db3be3ff51488c792",
              "IPY_MODEL_f1f9fbb525234191bfc3e6943546d2e1"
            ],
            "layout": "IPY_MODEL_8d15f9a8566741dab5aa251b69b4bb53"
          }
        },
        "0c2a83e08d73471188654c0c30f0cb61": {
          "model_module": "@jupyter-widgets/controls",
          "model_name": "HTMLModel",
          "model_module_version": "1.5.0",
          "state": {
            "_dom_classes": [],
            "_model_module": "@jupyter-widgets/controls",
            "_model_module_version": "1.5.0",
            "_model_name": "HTMLModel",
            "_view_count": null,
            "_view_module": "@jupyter-widgets/controls",
            "_view_module_version": "1.5.0",
            "_view_name": "HTMLView",
            "description": "",
            "description_tooltip": null,
            "layout": "IPY_MODEL_0a344c8c75b7421e8564cc2b910b7754",
            "placeholder": "​",
            "style": "IPY_MODEL_c055a3f40f044325b69abbbc0cbec864",
            "value": "tokenizer_config.json: 100%"
          }
        },
        "19023b3542f4454db3be3ff51488c792": {
          "model_module": "@jupyter-widgets/controls",
          "model_name": "FloatProgressModel",
          "model_module_version": "1.5.0",
          "state": {
            "_dom_classes": [],
            "_model_module": "@jupyter-widgets/controls",
            "_model_module_version": "1.5.0",
            "_model_name": "FloatProgressModel",
            "_view_count": null,
            "_view_module": "@jupyter-widgets/controls",
            "_view_module_version": "1.5.0",
            "_view_name": "ProgressView",
            "bar_style": "success",
            "description": "",
            "description_tooltip": null,
            "layout": "IPY_MODEL_c55df0ee24f4463fa03ae4865d805b39",
            "max": 62,
            "min": 0,
            "orientation": "horizontal",
            "style": "IPY_MODEL_1c4220cb2757458f9d110432a7f718e5",
            "value": 62
          }
        },
        "f1f9fbb525234191bfc3e6943546d2e1": {
          "model_module": "@jupyter-widgets/controls",
          "model_name": "HTMLModel",
          "model_module_version": "1.5.0",
          "state": {
            "_dom_classes": [],
            "_model_module": "@jupyter-widgets/controls",
            "_model_module_version": "1.5.0",
            "_model_name": "HTMLModel",
            "_view_count": null,
            "_view_module": "@jupyter-widgets/controls",
            "_view_module_version": "1.5.0",
            "_view_name": "HTMLView",
            "description": "",
            "description_tooltip": null,
            "layout": "IPY_MODEL_8fc4262c6efa42a6abca252339fd9d5e",
            "placeholder": "​",
            "style": "IPY_MODEL_6c7f3734fbb34bf4a8455d21a613c5f7",
            "value": " 62.0/62.0 [00:00&lt;00:00, 4.71kB/s]"
          }
        },
        "8d15f9a8566741dab5aa251b69b4bb53": {
          "model_module": "@jupyter-widgets/base",
          "model_name": "LayoutModel",
          "model_module_version": "1.2.0",
          "state": {
            "_model_module": "@jupyter-widgets/base",
            "_model_module_version": "1.2.0",
            "_model_name": "LayoutModel",
            "_view_count": null,
            "_view_module": "@jupyter-widgets/base",
            "_view_module_version": "1.2.0",
            "_view_name": "LayoutView",
            "align_content": null,
            "align_items": null,
            "align_self": null,
            "border": null,
            "bottom": null,
            "display": null,
            "flex": null,
            "flex_flow": null,
            "grid_area": null,
            "grid_auto_columns": null,
            "grid_auto_flow": null,
            "grid_auto_rows": null,
            "grid_column": null,
            "grid_gap": null,
            "grid_row": null,
            "grid_template_areas": null,
            "grid_template_columns": null,
            "grid_template_rows": null,
            "height": null,
            "justify_content": null,
            "justify_items": null,
            "left": null,
            "margin": null,
            "max_height": null,
            "max_width": null,
            "min_height": null,
            "min_width": null,
            "object_fit": null,
            "object_position": null,
            "order": null,
            "overflow": null,
            "overflow_x": null,
            "overflow_y": null,
            "padding": null,
            "right": null,
            "top": null,
            "visibility": null,
            "width": null
          }
        },
        "0a344c8c75b7421e8564cc2b910b7754": {
          "model_module": "@jupyter-widgets/base",
          "model_name": "LayoutModel",
          "model_module_version": "1.2.0",
          "state": {
            "_model_module": "@jupyter-widgets/base",
            "_model_module_version": "1.2.0",
            "_model_name": "LayoutModel",
            "_view_count": null,
            "_view_module": "@jupyter-widgets/base",
            "_view_module_version": "1.2.0",
            "_view_name": "LayoutView",
            "align_content": null,
            "align_items": null,
            "align_self": null,
            "border": null,
            "bottom": null,
            "display": null,
            "flex": null,
            "flex_flow": null,
            "grid_area": null,
            "grid_auto_columns": null,
            "grid_auto_flow": null,
            "grid_auto_rows": null,
            "grid_column": null,
            "grid_gap": null,
            "grid_row": null,
            "grid_template_areas": null,
            "grid_template_columns": null,
            "grid_template_rows": null,
            "height": null,
            "justify_content": null,
            "justify_items": null,
            "left": null,
            "margin": null,
            "max_height": null,
            "max_width": null,
            "min_height": null,
            "min_width": null,
            "object_fit": null,
            "object_position": null,
            "order": null,
            "overflow": null,
            "overflow_x": null,
            "overflow_y": null,
            "padding": null,
            "right": null,
            "top": null,
            "visibility": null,
            "width": null
          }
        },
        "c055a3f40f044325b69abbbc0cbec864": {
          "model_module": "@jupyter-widgets/controls",
          "model_name": "DescriptionStyleModel",
          "model_module_version": "1.5.0",
          "state": {
            "_model_module": "@jupyter-widgets/controls",
            "_model_module_version": "1.5.0",
            "_model_name": "DescriptionStyleModel",
            "_view_count": null,
            "_view_module": "@jupyter-widgets/base",
            "_view_module_version": "1.2.0",
            "_view_name": "StyleView",
            "description_width": ""
          }
        },
        "c55df0ee24f4463fa03ae4865d805b39": {
          "model_module": "@jupyter-widgets/base",
          "model_name": "LayoutModel",
          "model_module_version": "1.2.0",
          "state": {
            "_model_module": "@jupyter-widgets/base",
            "_model_module_version": "1.2.0",
            "_model_name": "LayoutModel",
            "_view_count": null,
            "_view_module": "@jupyter-widgets/base",
            "_view_module_version": "1.2.0",
            "_view_name": "LayoutView",
            "align_content": null,
            "align_items": null,
            "align_self": null,
            "border": null,
            "bottom": null,
            "display": null,
            "flex": null,
            "flex_flow": null,
            "grid_area": null,
            "grid_auto_columns": null,
            "grid_auto_flow": null,
            "grid_auto_rows": null,
            "grid_column": null,
            "grid_gap": null,
            "grid_row": null,
            "grid_template_areas": null,
            "grid_template_columns": null,
            "grid_template_rows": null,
            "height": null,
            "justify_content": null,
            "justify_items": null,
            "left": null,
            "margin": null,
            "max_height": null,
            "max_width": null,
            "min_height": null,
            "min_width": null,
            "object_fit": null,
            "object_position": null,
            "order": null,
            "overflow": null,
            "overflow_x": null,
            "overflow_y": null,
            "padding": null,
            "right": null,
            "top": null,
            "visibility": null,
            "width": null
          }
        },
        "1c4220cb2757458f9d110432a7f718e5": {
          "model_module": "@jupyter-widgets/controls",
          "model_name": "ProgressStyleModel",
          "model_module_version": "1.5.0",
          "state": {
            "_model_module": "@jupyter-widgets/controls",
            "_model_module_version": "1.5.0",
            "_model_name": "ProgressStyleModel",
            "_view_count": null,
            "_view_module": "@jupyter-widgets/base",
            "_view_module_version": "1.2.0",
            "_view_name": "StyleView",
            "bar_color": null,
            "description_width": ""
          }
        },
        "8fc4262c6efa42a6abca252339fd9d5e": {
          "model_module": "@jupyter-widgets/base",
          "model_name": "LayoutModel",
          "model_module_version": "1.2.0",
          "state": {
            "_model_module": "@jupyter-widgets/base",
            "_model_module_version": "1.2.0",
            "_model_name": "LayoutModel",
            "_view_count": null,
            "_view_module": "@jupyter-widgets/base",
            "_view_module_version": "1.2.0",
            "_view_name": "LayoutView",
            "align_content": null,
            "align_items": null,
            "align_self": null,
            "border": null,
            "bottom": null,
            "display": null,
            "flex": null,
            "flex_flow": null,
            "grid_area": null,
            "grid_auto_columns": null,
            "grid_auto_flow": null,
            "grid_auto_rows": null,
            "grid_column": null,
            "grid_gap": null,
            "grid_row": null,
            "grid_template_areas": null,
            "grid_template_columns": null,
            "grid_template_rows": null,
            "height": null,
            "justify_content": null,
            "justify_items": null,
            "left": null,
            "margin": null,
            "max_height": null,
            "max_width": null,
            "min_height": null,
            "min_width": null,
            "object_fit": null,
            "object_position": null,
            "order": null,
            "overflow": null,
            "overflow_x": null,
            "overflow_y": null,
            "padding": null,
            "right": null,
            "top": null,
            "visibility": null,
            "width": null
          }
        },
        "6c7f3734fbb34bf4a8455d21a613c5f7": {
          "model_module": "@jupyter-widgets/controls",
          "model_name": "DescriptionStyleModel",
          "model_module_version": "1.5.0",
          "state": {
            "_model_module": "@jupyter-widgets/controls",
            "_model_module_version": "1.5.0",
            "_model_name": "DescriptionStyleModel",
            "_view_count": null,
            "_view_module": "@jupyter-widgets/base",
            "_view_module_version": "1.2.0",
            "_view_name": "StyleView",
            "description_width": ""
          }
        },
        "6e65a3dad2024c7682f34a565c0d235d": {
          "model_module": "@jupyter-widgets/controls",
          "model_name": "HBoxModel",
          "model_module_version": "1.5.0",
          "state": {
            "_dom_classes": [],
            "_model_module": "@jupyter-widgets/controls",
            "_model_module_version": "1.5.0",
            "_model_name": "HBoxModel",
            "_view_count": null,
            "_view_module": "@jupyter-widgets/controls",
            "_view_module_version": "1.5.0",
            "_view_name": "HBoxView",
            "box_style": "",
            "children": [
              "IPY_MODEL_f23c6f3c20a842c98216e6b36976b946",
              "IPY_MODEL_c05a7c04a6a4426d938bba0f0eb3de5a",
              "IPY_MODEL_d542793c9cc34fc384d80fe1941fb480"
            ],
            "layout": "IPY_MODEL_dc4e11f25d88481dbf9d8381bc150cb6"
          }
        },
        "f23c6f3c20a842c98216e6b36976b946": {
          "model_module": "@jupyter-widgets/controls",
          "model_name": "HTMLModel",
          "model_module_version": "1.5.0",
          "state": {
            "_dom_classes": [],
            "_model_module": "@jupyter-widgets/controls",
            "_model_module_version": "1.5.0",
            "_model_name": "HTMLModel",
            "_view_count": null,
            "_view_module": "@jupyter-widgets/controls",
            "_view_module_version": "1.5.0",
            "_view_name": "HTMLView",
            "description": "",
            "description_tooltip": null,
            "layout": "IPY_MODEL_7fc32c55354c4afc98e44c637ec83c78",
            "placeholder": "​",
            "style": "IPY_MODEL_f58e634b9a774c409949dca23f8077ea",
            "value": "config.json: 100%"
          }
        },
        "c05a7c04a6a4426d938bba0f0eb3de5a": {
          "model_module": "@jupyter-widgets/controls",
          "model_name": "FloatProgressModel",
          "model_module_version": "1.5.0",
          "state": {
            "_dom_classes": [],
            "_model_module": "@jupyter-widgets/controls",
            "_model_module_version": "1.5.0",
            "_model_name": "FloatProgressModel",
            "_view_count": null,
            "_view_module": "@jupyter-widgets/controls",
            "_view_module_version": "1.5.0",
            "_view_name": "ProgressView",
            "bar_style": "success",
            "description": "",
            "description_tooltip": null,
            "layout": "IPY_MODEL_e6a9c1f33f904c6cb6dec630e81f6483",
            "max": 491,
            "min": 0,
            "orientation": "horizontal",
            "style": "IPY_MODEL_b0a7c9f955c04ca7901402c3a1d2069e",
            "value": 491
          }
        },
        "d542793c9cc34fc384d80fe1941fb480": {
          "model_module": "@jupyter-widgets/controls",
          "model_name": "HTMLModel",
          "model_module_version": "1.5.0",
          "state": {
            "_dom_classes": [],
            "_model_module": "@jupyter-widgets/controls",
            "_model_module_version": "1.5.0",
            "_model_name": "HTMLModel",
            "_view_count": null,
            "_view_module": "@jupyter-widgets/controls",
            "_view_module_version": "1.5.0",
            "_view_name": "HTMLView",
            "description": "",
            "description_tooltip": null,
            "layout": "IPY_MODEL_8914223682ed4114b4e45fd8bc6b3164",
            "placeholder": "​",
            "style": "IPY_MODEL_29f9b7fe4b4a416c87d837ad2ebd21cd",
            "value": " 491/491 [00:00&lt;00:00, 39.4kB/s]"
          }
        },
        "dc4e11f25d88481dbf9d8381bc150cb6": {
          "model_module": "@jupyter-widgets/base",
          "model_name": "LayoutModel",
          "model_module_version": "1.2.0",
          "state": {
            "_model_module": "@jupyter-widgets/base",
            "_model_module_version": "1.2.0",
            "_model_name": "LayoutModel",
            "_view_count": null,
            "_view_module": "@jupyter-widgets/base",
            "_view_module_version": "1.2.0",
            "_view_name": "LayoutView",
            "align_content": null,
            "align_items": null,
            "align_self": null,
            "border": null,
            "bottom": null,
            "display": null,
            "flex": null,
            "flex_flow": null,
            "grid_area": null,
            "grid_auto_columns": null,
            "grid_auto_flow": null,
            "grid_auto_rows": null,
            "grid_column": null,
            "grid_gap": null,
            "grid_row": null,
            "grid_template_areas": null,
            "grid_template_columns": null,
            "grid_template_rows": null,
            "height": null,
            "justify_content": null,
            "justify_items": null,
            "left": null,
            "margin": null,
            "max_height": null,
            "max_width": null,
            "min_height": null,
            "min_width": null,
            "object_fit": null,
            "object_position": null,
            "order": null,
            "overflow": null,
            "overflow_x": null,
            "overflow_y": null,
            "padding": null,
            "right": null,
            "top": null,
            "visibility": null,
            "width": null
          }
        },
        "7fc32c55354c4afc98e44c637ec83c78": {
          "model_module": "@jupyter-widgets/base",
          "model_name": "LayoutModel",
          "model_module_version": "1.2.0",
          "state": {
            "_model_module": "@jupyter-widgets/base",
            "_model_module_version": "1.2.0",
            "_model_name": "LayoutModel",
            "_view_count": null,
            "_view_module": "@jupyter-widgets/base",
            "_view_module_version": "1.2.0",
            "_view_name": "LayoutView",
            "align_content": null,
            "align_items": null,
            "align_self": null,
            "border": null,
            "bottom": null,
            "display": null,
            "flex": null,
            "flex_flow": null,
            "grid_area": null,
            "grid_auto_columns": null,
            "grid_auto_flow": null,
            "grid_auto_rows": null,
            "grid_column": null,
            "grid_gap": null,
            "grid_row": null,
            "grid_template_areas": null,
            "grid_template_columns": null,
            "grid_template_rows": null,
            "height": null,
            "justify_content": null,
            "justify_items": null,
            "left": null,
            "margin": null,
            "max_height": null,
            "max_width": null,
            "min_height": null,
            "min_width": null,
            "object_fit": null,
            "object_position": null,
            "order": null,
            "overflow": null,
            "overflow_x": null,
            "overflow_y": null,
            "padding": null,
            "right": null,
            "top": null,
            "visibility": null,
            "width": null
          }
        },
        "f58e634b9a774c409949dca23f8077ea": {
          "model_module": "@jupyter-widgets/controls",
          "model_name": "DescriptionStyleModel",
          "model_module_version": "1.5.0",
          "state": {
            "_model_module": "@jupyter-widgets/controls",
            "_model_module_version": "1.5.0",
            "_model_name": "DescriptionStyleModel",
            "_view_count": null,
            "_view_module": "@jupyter-widgets/base",
            "_view_module_version": "1.2.0",
            "_view_name": "StyleView",
            "description_width": ""
          }
        },
        "e6a9c1f33f904c6cb6dec630e81f6483": {
          "model_module": "@jupyter-widgets/base",
          "model_name": "LayoutModel",
          "model_module_version": "1.2.0",
          "state": {
            "_model_module": "@jupyter-widgets/base",
            "_model_module_version": "1.2.0",
            "_model_name": "LayoutModel",
            "_view_count": null,
            "_view_module": "@jupyter-widgets/base",
            "_view_module_version": "1.2.0",
            "_view_name": "LayoutView",
            "align_content": null,
            "align_items": null,
            "align_self": null,
            "border": null,
            "bottom": null,
            "display": null,
            "flex": null,
            "flex_flow": null,
            "grid_area": null,
            "grid_auto_columns": null,
            "grid_auto_flow": null,
            "grid_auto_rows": null,
            "grid_column": null,
            "grid_gap": null,
            "grid_row": null,
            "grid_template_areas": null,
            "grid_template_columns": null,
            "grid_template_rows": null,
            "height": null,
            "justify_content": null,
            "justify_items": null,
            "left": null,
            "margin": null,
            "max_height": null,
            "max_width": null,
            "min_height": null,
            "min_width": null,
            "object_fit": null,
            "object_position": null,
            "order": null,
            "overflow": null,
            "overflow_x": null,
            "overflow_y": null,
            "padding": null,
            "right": null,
            "top": null,
            "visibility": null,
            "width": null
          }
        },
        "b0a7c9f955c04ca7901402c3a1d2069e": {
          "model_module": "@jupyter-widgets/controls",
          "model_name": "ProgressStyleModel",
          "model_module_version": "1.5.0",
          "state": {
            "_model_module": "@jupyter-widgets/controls",
            "_model_module_version": "1.5.0",
            "_model_name": "ProgressStyleModel",
            "_view_count": null,
            "_view_module": "@jupyter-widgets/base",
            "_view_module_version": "1.2.0",
            "_view_name": "StyleView",
            "bar_color": null,
            "description_width": ""
          }
        },
        "8914223682ed4114b4e45fd8bc6b3164": {
          "model_module": "@jupyter-widgets/base",
          "model_name": "LayoutModel",
          "model_module_version": "1.2.0",
          "state": {
            "_model_module": "@jupyter-widgets/base",
            "_model_module_version": "1.2.0",
            "_model_name": "LayoutModel",
            "_view_count": null,
            "_view_module": "@jupyter-widgets/base",
            "_view_module_version": "1.2.0",
            "_view_name": "LayoutView",
            "align_content": null,
            "align_items": null,
            "align_self": null,
            "border": null,
            "bottom": null,
            "display": null,
            "flex": null,
            "flex_flow": null,
            "grid_area": null,
            "grid_auto_columns": null,
            "grid_auto_flow": null,
            "grid_auto_rows": null,
            "grid_column": null,
            "grid_gap": null,
            "grid_row": null,
            "grid_template_areas": null,
            "grid_template_columns": null,
            "grid_template_rows": null,
            "height": null,
            "justify_content": null,
            "justify_items": null,
            "left": null,
            "margin": null,
            "max_height": null,
            "max_width": null,
            "min_height": null,
            "min_width": null,
            "object_fit": null,
            "object_position": null,
            "order": null,
            "overflow": null,
            "overflow_x": null,
            "overflow_y": null,
            "padding": null,
            "right": null,
            "top": null,
            "visibility": null,
            "width": null
          }
        },
        "29f9b7fe4b4a416c87d837ad2ebd21cd": {
          "model_module": "@jupyter-widgets/controls",
          "model_name": "DescriptionStyleModel",
          "model_module_version": "1.5.0",
          "state": {
            "_model_module": "@jupyter-widgets/controls",
            "_model_module_version": "1.5.0",
            "_model_name": "DescriptionStyleModel",
            "_view_count": null,
            "_view_module": "@jupyter-widgets/base",
            "_view_module_version": "1.2.0",
            "_view_name": "StyleView",
            "description_width": ""
          }
        },
        "f76c283a72d441809eb25e2ced13a286": {
          "model_module": "@jupyter-widgets/controls",
          "model_name": "HBoxModel",
          "model_module_version": "1.5.0",
          "state": {
            "_dom_classes": [],
            "_model_module": "@jupyter-widgets/controls",
            "_model_module_version": "1.5.0",
            "_model_name": "HBoxModel",
            "_view_count": null,
            "_view_module": "@jupyter-widgets/controls",
            "_view_module_version": "1.5.0",
            "_view_name": "HBoxView",
            "box_style": "",
            "children": [
              "IPY_MODEL_11fe1c0db17b4c7f81ece0a648cca418",
              "IPY_MODEL_eff14b79698844d8aa69a29dafcae71c",
              "IPY_MODEL_c243a8c8cdcf4a4d958507cb09604195"
            ],
            "layout": "IPY_MODEL_892444be959649a9bf65340698c44b25"
          }
        },
        "11fe1c0db17b4c7f81ece0a648cca418": {
          "model_module": "@jupyter-widgets/controls",
          "model_name": "HTMLModel",
          "model_module_version": "1.5.0",
          "state": {
            "_dom_classes": [],
            "_model_module": "@jupyter-widgets/controls",
            "_model_module_version": "1.5.0",
            "_model_name": "HTMLModel",
            "_view_count": null,
            "_view_module": "@jupyter-widgets/controls",
            "_view_module_version": "1.5.0",
            "_view_name": "HTMLView",
            "description": "",
            "description_tooltip": null,
            "layout": "IPY_MODEL_4dcd4a74796a4ef6ac5083585bc5cff6",
            "placeholder": "​",
            "style": "IPY_MODEL_4a20843713e04973a41bf5cfceab35a8",
            "value": "vocab.txt: 100%"
          }
        },
        "eff14b79698844d8aa69a29dafcae71c": {
          "model_module": "@jupyter-widgets/controls",
          "model_name": "FloatProgressModel",
          "model_module_version": "1.5.0",
          "state": {
            "_dom_classes": [],
            "_model_module": "@jupyter-widgets/controls",
            "_model_module_version": "1.5.0",
            "_model_name": "FloatProgressModel",
            "_view_count": null,
            "_view_module": "@jupyter-widgets/controls",
            "_view_module_version": "1.5.0",
            "_view_name": "ProgressView",
            "bar_style": "success",
            "description": "",
            "description_tooltip": null,
            "layout": "IPY_MODEL_9f1f1101857744138b16c7e7d4a02cbb",
            "max": 333770,
            "min": 0,
            "orientation": "horizontal",
            "style": "IPY_MODEL_0fc99228811b4d32a01cad0ff7c580e1",
            "value": 333770
          }
        },
        "c243a8c8cdcf4a4d958507cb09604195": {
          "model_module": "@jupyter-widgets/controls",
          "model_name": "HTMLModel",
          "model_module_version": "1.5.0",
          "state": {
            "_dom_classes": [],
            "_model_module": "@jupyter-widgets/controls",
            "_model_module_version": "1.5.0",
            "_model_name": "HTMLModel",
            "_view_count": null,
            "_view_module": "@jupyter-widgets/controls",
            "_view_module_version": "1.5.0",
            "_view_name": "HTMLView",
            "description": "",
            "description_tooltip": null,
            "layout": "IPY_MODEL_0e853f89bf814e458751c28b02e9348c",
            "placeholder": "​",
            "style": "IPY_MODEL_d2f82f5f1da44e01a54daf16d15f7e3e",
            "value": " 334k/334k [00:00&lt;00:00, 3.66MB/s]"
          }
        },
        "892444be959649a9bf65340698c44b25": {
          "model_module": "@jupyter-widgets/base",
          "model_name": "LayoutModel",
          "model_module_version": "1.2.0",
          "state": {
            "_model_module": "@jupyter-widgets/base",
            "_model_module_version": "1.2.0",
            "_model_name": "LayoutModel",
            "_view_count": null,
            "_view_module": "@jupyter-widgets/base",
            "_view_module_version": "1.2.0",
            "_view_name": "LayoutView",
            "align_content": null,
            "align_items": null,
            "align_self": null,
            "border": null,
            "bottom": null,
            "display": null,
            "flex": null,
            "flex_flow": null,
            "grid_area": null,
            "grid_auto_columns": null,
            "grid_auto_flow": null,
            "grid_auto_rows": null,
            "grid_column": null,
            "grid_gap": null,
            "grid_row": null,
            "grid_template_areas": null,
            "grid_template_columns": null,
            "grid_template_rows": null,
            "height": null,
            "justify_content": null,
            "justify_items": null,
            "left": null,
            "margin": null,
            "max_height": null,
            "max_width": null,
            "min_height": null,
            "min_width": null,
            "object_fit": null,
            "object_position": null,
            "order": null,
            "overflow": null,
            "overflow_x": null,
            "overflow_y": null,
            "padding": null,
            "right": null,
            "top": null,
            "visibility": null,
            "width": null
          }
        },
        "4dcd4a74796a4ef6ac5083585bc5cff6": {
          "model_module": "@jupyter-widgets/base",
          "model_name": "LayoutModel",
          "model_module_version": "1.2.0",
          "state": {
            "_model_module": "@jupyter-widgets/base",
            "_model_module_version": "1.2.0",
            "_model_name": "LayoutModel",
            "_view_count": null,
            "_view_module": "@jupyter-widgets/base",
            "_view_module_version": "1.2.0",
            "_view_name": "LayoutView",
            "align_content": null,
            "align_items": null,
            "align_self": null,
            "border": null,
            "bottom": null,
            "display": null,
            "flex": null,
            "flex_flow": null,
            "grid_area": null,
            "grid_auto_columns": null,
            "grid_auto_flow": null,
            "grid_auto_rows": null,
            "grid_column": null,
            "grid_gap": null,
            "grid_row": null,
            "grid_template_areas": null,
            "grid_template_columns": null,
            "grid_template_rows": null,
            "height": null,
            "justify_content": null,
            "justify_items": null,
            "left": null,
            "margin": null,
            "max_height": null,
            "max_width": null,
            "min_height": null,
            "min_width": null,
            "object_fit": null,
            "object_position": null,
            "order": null,
            "overflow": null,
            "overflow_x": null,
            "overflow_y": null,
            "padding": null,
            "right": null,
            "top": null,
            "visibility": null,
            "width": null
          }
        },
        "4a20843713e04973a41bf5cfceab35a8": {
          "model_module": "@jupyter-widgets/controls",
          "model_name": "DescriptionStyleModel",
          "model_module_version": "1.5.0",
          "state": {
            "_model_module": "@jupyter-widgets/controls",
            "_model_module_version": "1.5.0",
            "_model_name": "DescriptionStyleModel",
            "_view_count": null,
            "_view_module": "@jupyter-widgets/base",
            "_view_module_version": "1.2.0",
            "_view_name": "StyleView",
            "description_width": ""
          }
        },
        "9f1f1101857744138b16c7e7d4a02cbb": {
          "model_module": "@jupyter-widgets/base",
          "model_name": "LayoutModel",
          "model_module_version": "1.2.0",
          "state": {
            "_model_module": "@jupyter-widgets/base",
            "_model_module_version": "1.2.0",
            "_model_name": "LayoutModel",
            "_view_count": null,
            "_view_module": "@jupyter-widgets/base",
            "_view_module_version": "1.2.0",
            "_view_name": "LayoutView",
            "align_content": null,
            "align_items": null,
            "align_self": null,
            "border": null,
            "bottom": null,
            "display": null,
            "flex": null,
            "flex_flow": null,
            "grid_area": null,
            "grid_auto_columns": null,
            "grid_auto_flow": null,
            "grid_auto_rows": null,
            "grid_column": null,
            "grid_gap": null,
            "grid_row": null,
            "grid_template_areas": null,
            "grid_template_columns": null,
            "grid_template_rows": null,
            "height": null,
            "justify_content": null,
            "justify_items": null,
            "left": null,
            "margin": null,
            "max_height": null,
            "max_width": null,
            "min_height": null,
            "min_width": null,
            "object_fit": null,
            "object_position": null,
            "order": null,
            "overflow": null,
            "overflow_x": null,
            "overflow_y": null,
            "padding": null,
            "right": null,
            "top": null,
            "visibility": null,
            "width": null
          }
        },
        "0fc99228811b4d32a01cad0ff7c580e1": {
          "model_module": "@jupyter-widgets/controls",
          "model_name": "ProgressStyleModel",
          "model_module_version": "1.5.0",
          "state": {
            "_model_module": "@jupyter-widgets/controls",
            "_model_module_version": "1.5.0",
            "_model_name": "ProgressStyleModel",
            "_view_count": null,
            "_view_module": "@jupyter-widgets/base",
            "_view_module_version": "1.2.0",
            "_view_name": "StyleView",
            "bar_color": null,
            "description_width": ""
          }
        },
        "0e853f89bf814e458751c28b02e9348c": {
          "model_module": "@jupyter-widgets/base",
          "model_name": "LayoutModel",
          "model_module_version": "1.2.0",
          "state": {
            "_model_module": "@jupyter-widgets/base",
            "_model_module_version": "1.2.0",
            "_model_name": "LayoutModel",
            "_view_count": null,
            "_view_module": "@jupyter-widgets/base",
            "_view_module_version": "1.2.0",
            "_view_name": "LayoutView",
            "align_content": null,
            "align_items": null,
            "align_self": null,
            "border": null,
            "bottom": null,
            "display": null,
            "flex": null,
            "flex_flow": null,
            "grid_area": null,
            "grid_auto_columns": null,
            "grid_auto_flow": null,
            "grid_auto_rows": null,
            "grid_column": null,
            "grid_gap": null,
            "grid_row": null,
            "grid_template_areas": null,
            "grid_template_columns": null,
            "grid_template_rows": null,
            "height": null,
            "justify_content": null,
            "justify_items": null,
            "left": null,
            "margin": null,
            "max_height": null,
            "max_width": null,
            "min_height": null,
            "min_width": null,
            "object_fit": null,
            "object_position": null,
            "order": null,
            "overflow": null,
            "overflow_x": null,
            "overflow_y": null,
            "padding": null,
            "right": null,
            "top": null,
            "visibility": null,
            "width": null
          }
        },
        "d2f82f5f1da44e01a54daf16d15f7e3e": {
          "model_module": "@jupyter-widgets/controls",
          "model_name": "DescriptionStyleModel",
          "model_module_version": "1.5.0",
          "state": {
            "_model_module": "@jupyter-widgets/controls",
            "_model_module_version": "1.5.0",
            "_model_name": "DescriptionStyleModel",
            "_view_count": null,
            "_view_module": "@jupyter-widgets/base",
            "_view_module_version": "1.2.0",
            "_view_name": "StyleView",
            "description_width": ""
          }
        },
        "289b1d4804e3480daa63ee86b7014420": {
          "model_module": "@jupyter-widgets/controls",
          "model_name": "HBoxModel",
          "model_module_version": "1.5.0",
          "state": {
            "_dom_classes": [],
            "_model_module": "@jupyter-widgets/controls",
            "_model_module_version": "1.5.0",
            "_model_name": "HBoxModel",
            "_view_count": null,
            "_view_module": "@jupyter-widgets/controls",
            "_view_module_version": "1.5.0",
            "_view_name": "HBoxView",
            "box_style": "",
            "children": [
              "IPY_MODEL_99ca542176284c86a4a986c351a68e7c",
              "IPY_MODEL_09caf4dd59594475a3dc2766522de7e5",
              "IPY_MODEL_3b19ad5aedce41f2b861f33290aac810"
            ],
            "layout": "IPY_MODEL_95d7a836987d40848fe3590feaba5291"
          }
        },
        "99ca542176284c86a4a986c351a68e7c": {
          "model_module": "@jupyter-widgets/controls",
          "model_name": "HTMLModel",
          "model_module_version": "1.5.0",
          "state": {
            "_dom_classes": [],
            "_model_module": "@jupyter-widgets/controls",
            "_model_module_version": "1.5.0",
            "_model_name": "HTMLModel",
            "_view_count": null,
            "_view_module": "@jupyter-widgets/controls",
            "_view_module_version": "1.5.0",
            "_view_name": "HTMLView",
            "description": "",
            "description_tooltip": null,
            "layout": "IPY_MODEL_419ab1558d3f4279b77591ec2df1bac5",
            "placeholder": "​",
            "style": "IPY_MODEL_6369d509b3494dcdaa965ba1378f984b",
            "value": "special_tokens_map.json: 100%"
          }
        },
        "09caf4dd59594475a3dc2766522de7e5": {
          "model_module": "@jupyter-widgets/controls",
          "model_name": "FloatProgressModel",
          "model_module_version": "1.5.0",
          "state": {
            "_dom_classes": [],
            "_model_module": "@jupyter-widgets/controls",
            "_model_module_version": "1.5.0",
            "_model_name": "FloatProgressModel",
            "_view_count": null,
            "_view_module": "@jupyter-widgets/controls",
            "_view_module_version": "1.5.0",
            "_view_name": "ProgressView",
            "bar_style": "success",
            "description": "",
            "description_tooltip": null,
            "layout": "IPY_MODEL_d518501a88d94d7cbef9e2f0201c0a2a",
            "max": 112,
            "min": 0,
            "orientation": "horizontal",
            "style": "IPY_MODEL_e223fe24383c435e87e5d144ea993639",
            "value": 112
          }
        },
        "3b19ad5aedce41f2b861f33290aac810": {
          "model_module": "@jupyter-widgets/controls",
          "model_name": "HTMLModel",
          "model_module_version": "1.5.0",
          "state": {
            "_dom_classes": [],
            "_model_module": "@jupyter-widgets/controls",
            "_model_module_version": "1.5.0",
            "_model_name": "HTMLModel",
            "_view_count": null,
            "_view_module": "@jupyter-widgets/controls",
            "_view_module_version": "1.5.0",
            "_view_name": "HTMLView",
            "description": "",
            "description_tooltip": null,
            "layout": "IPY_MODEL_b130c23f39f44d55ae4fa9bf68b811ce",
            "placeholder": "​",
            "style": "IPY_MODEL_10bf27f33af548678e6f5572a59d258e",
            "value": " 112/112 [00:00&lt;00:00, 9.02kB/s]"
          }
        },
        "95d7a836987d40848fe3590feaba5291": {
          "model_module": "@jupyter-widgets/base",
          "model_name": "LayoutModel",
          "model_module_version": "1.2.0",
          "state": {
            "_model_module": "@jupyter-widgets/base",
            "_model_module_version": "1.2.0",
            "_model_name": "LayoutModel",
            "_view_count": null,
            "_view_module": "@jupyter-widgets/base",
            "_view_module_version": "1.2.0",
            "_view_name": "LayoutView",
            "align_content": null,
            "align_items": null,
            "align_self": null,
            "border": null,
            "bottom": null,
            "display": null,
            "flex": null,
            "flex_flow": null,
            "grid_area": null,
            "grid_auto_columns": null,
            "grid_auto_flow": null,
            "grid_auto_rows": null,
            "grid_column": null,
            "grid_gap": null,
            "grid_row": null,
            "grid_template_areas": null,
            "grid_template_columns": null,
            "grid_template_rows": null,
            "height": null,
            "justify_content": null,
            "justify_items": null,
            "left": null,
            "margin": null,
            "max_height": null,
            "max_width": null,
            "min_height": null,
            "min_width": null,
            "object_fit": null,
            "object_position": null,
            "order": null,
            "overflow": null,
            "overflow_x": null,
            "overflow_y": null,
            "padding": null,
            "right": null,
            "top": null,
            "visibility": null,
            "width": null
          }
        },
        "419ab1558d3f4279b77591ec2df1bac5": {
          "model_module": "@jupyter-widgets/base",
          "model_name": "LayoutModel",
          "model_module_version": "1.2.0",
          "state": {
            "_model_module": "@jupyter-widgets/base",
            "_model_module_version": "1.2.0",
            "_model_name": "LayoutModel",
            "_view_count": null,
            "_view_module": "@jupyter-widgets/base",
            "_view_module_version": "1.2.0",
            "_view_name": "LayoutView",
            "align_content": null,
            "align_items": null,
            "align_self": null,
            "border": null,
            "bottom": null,
            "display": null,
            "flex": null,
            "flex_flow": null,
            "grid_area": null,
            "grid_auto_columns": null,
            "grid_auto_flow": null,
            "grid_auto_rows": null,
            "grid_column": null,
            "grid_gap": null,
            "grid_row": null,
            "grid_template_areas": null,
            "grid_template_columns": null,
            "grid_template_rows": null,
            "height": null,
            "justify_content": null,
            "justify_items": null,
            "left": null,
            "margin": null,
            "max_height": null,
            "max_width": null,
            "min_height": null,
            "min_width": null,
            "object_fit": null,
            "object_position": null,
            "order": null,
            "overflow": null,
            "overflow_x": null,
            "overflow_y": null,
            "padding": null,
            "right": null,
            "top": null,
            "visibility": null,
            "width": null
          }
        },
        "6369d509b3494dcdaa965ba1378f984b": {
          "model_module": "@jupyter-widgets/controls",
          "model_name": "DescriptionStyleModel",
          "model_module_version": "1.5.0",
          "state": {
            "_model_module": "@jupyter-widgets/controls",
            "_model_module_version": "1.5.0",
            "_model_name": "DescriptionStyleModel",
            "_view_count": null,
            "_view_module": "@jupyter-widgets/base",
            "_view_module_version": "1.2.0",
            "_view_name": "StyleView",
            "description_width": ""
          }
        },
        "d518501a88d94d7cbef9e2f0201c0a2a": {
          "model_module": "@jupyter-widgets/base",
          "model_name": "LayoutModel",
          "model_module_version": "1.2.0",
          "state": {
            "_model_module": "@jupyter-widgets/base",
            "_model_module_version": "1.2.0",
            "_model_name": "LayoutModel",
            "_view_count": null,
            "_view_module": "@jupyter-widgets/base",
            "_view_module_version": "1.2.0",
            "_view_name": "LayoutView",
            "align_content": null,
            "align_items": null,
            "align_self": null,
            "border": null,
            "bottom": null,
            "display": null,
            "flex": null,
            "flex_flow": null,
            "grid_area": null,
            "grid_auto_columns": null,
            "grid_auto_flow": null,
            "grid_auto_rows": null,
            "grid_column": null,
            "grid_gap": null,
            "grid_row": null,
            "grid_template_areas": null,
            "grid_template_columns": null,
            "grid_template_rows": null,
            "height": null,
            "justify_content": null,
            "justify_items": null,
            "left": null,
            "margin": null,
            "max_height": null,
            "max_width": null,
            "min_height": null,
            "min_width": null,
            "object_fit": null,
            "object_position": null,
            "order": null,
            "overflow": null,
            "overflow_x": null,
            "overflow_y": null,
            "padding": null,
            "right": null,
            "top": null,
            "visibility": null,
            "width": null
          }
        },
        "e223fe24383c435e87e5d144ea993639": {
          "model_module": "@jupyter-widgets/controls",
          "model_name": "ProgressStyleModel",
          "model_module_version": "1.5.0",
          "state": {
            "_model_module": "@jupyter-widgets/controls",
            "_model_module_version": "1.5.0",
            "_model_name": "ProgressStyleModel",
            "_view_count": null,
            "_view_module": "@jupyter-widgets/base",
            "_view_module_version": "1.2.0",
            "_view_name": "StyleView",
            "bar_color": null,
            "description_width": ""
          }
        },
        "b130c23f39f44d55ae4fa9bf68b811ce": {
          "model_module": "@jupyter-widgets/base",
          "model_name": "LayoutModel",
          "model_module_version": "1.2.0",
          "state": {
            "_model_module": "@jupyter-widgets/base",
            "_model_module_version": "1.2.0",
            "_model_name": "LayoutModel",
            "_view_count": null,
            "_view_module": "@jupyter-widgets/base",
            "_view_module_version": "1.2.0",
            "_view_name": "LayoutView",
            "align_content": null,
            "align_items": null,
            "align_self": null,
            "border": null,
            "bottom": null,
            "display": null,
            "flex": null,
            "flex_flow": null,
            "grid_area": null,
            "grid_auto_columns": null,
            "grid_auto_flow": null,
            "grid_auto_rows": null,
            "grid_column": null,
            "grid_gap": null,
            "grid_row": null,
            "grid_template_areas": null,
            "grid_template_columns": null,
            "grid_template_rows": null,
            "height": null,
            "justify_content": null,
            "justify_items": null,
            "left": null,
            "margin": null,
            "max_height": null,
            "max_width": null,
            "min_height": null,
            "min_width": null,
            "object_fit": null,
            "object_position": null,
            "order": null,
            "overflow": null,
            "overflow_x": null,
            "overflow_y": null,
            "padding": null,
            "right": null,
            "top": null,
            "visibility": null,
            "width": null
          }
        },
        "10bf27f33af548678e6f5572a59d258e": {
          "model_module": "@jupyter-widgets/controls",
          "model_name": "DescriptionStyleModel",
          "model_module_version": "1.5.0",
          "state": {
            "_model_module": "@jupyter-widgets/controls",
            "_model_module_version": "1.5.0",
            "_model_name": "DescriptionStyleModel",
            "_view_count": null,
            "_view_module": "@jupyter-widgets/base",
            "_view_module_version": "1.2.0",
            "_view_name": "StyleView",
            "description_width": ""
          }
        }
      }
    }
  },
  "cells": [
    {
      "cell_type": "markdown",
      "metadata": {
        "id": "view-in-github",
        "colab_type": "text"
      },
      "source": [
        "<a href=\"https://colab.research.google.com/github/Yussof-Waleed/nlp-arabic-autocomplete/blob/main/NLP_Arabic_autocomplete_BLSTM_Notebook.ipynb\" target=\"_parent\"><img src=\"https://colab.research.google.com/assets/colab-badge.svg\" alt=\"Open In Colab\"/></a>"
      ]
    },
    {
      "cell_type": "code",
      "execution_count": null,
      "metadata": {
        "id": "Dhtipa3EElHj"
      },
      "outputs": [],
      "source": [
        "import pandas as pd\n",
        "import numpy as np"
      ]
    },
    {
      "cell_type": "code",
      "source": [
        "import torch\n",
        "import torch.nn as nn\n",
        "import torch.optim as optim\n",
        "import numpy as np\n",
        "import pandas as pd\n",
        "import matplotlib.pyplot as plt\n",
        "from sklearn.model_selection import train_test_split"
      ],
      "metadata": {
        "id": "a-n63kUJj-OE"
      },
      "execution_count": null,
      "outputs": []
    },
    {
      "cell_type": "code",
      "source": [
        "df = pd.read_csv(r\"/content/arabic_dataset_classifiction.csv\")"
      ],
      "metadata": {
        "id": "wU1BAbD6E4Ab"
      },
      "execution_count": null,
      "outputs": []
    },
    {
      "cell_type": "code",
      "source": [
        "df.info()"
      ],
      "metadata": {
        "colab": {
          "base_uri": "https://localhost:8080/"
        },
        "id": "jnWV0OG_E4FI",
        "outputId": "5eff1cb2-c5e8-4015-f71b-7c9058051af7"
      },
      "execution_count": null,
      "outputs": [
        {
          "output_type": "stream",
          "name": "stdout",
          "text": [
            "<class 'pandas.core.frame.DataFrame'>\n",
            "RangeIndex: 1717 entries, 0 to 1716\n",
            "Data columns (total 2 columns):\n",
            " #   Column  Non-Null Count  Dtype  \n",
            "---  ------  --------------  -----  \n",
            " 0   text    1717 non-null   object \n",
            " 1   targe   1716 non-null   float64\n",
            "dtypes: float64(1), object(1)\n",
            "memory usage: 27.0+ KB\n"
          ]
        }
      ]
    },
    {
      "cell_type": "code",
      "source": [
        "df.shape"
      ],
      "metadata": {
        "colab": {
          "base_uri": "https://localhost:8080/"
        },
        "id": "-kHT-fYKkLnA",
        "outputId": "81904bd7-e6e9-46be-d1f9-cb879ea48c92"
      },
      "execution_count": null,
      "outputs": [
        {
          "output_type": "execute_result",
          "data": {
            "text/plain": [
              "(1717, 2)"
            ]
          },
          "metadata": {},
          "execution_count": 7
        }
      ]
    },
    {
      "cell_type": "code",
      "source": [
        "df.head()"
      ],
      "metadata": {
        "colab": {
          "base_uri": "https://localhost:8080/",
          "height": 206
        },
        "id": "LWpPkNntkJJH",
        "outputId": "58dbe8d8-a4e6-4ed5-9ad4-0a8fba3f856d"
      },
      "execution_count": null,
      "outputs": [
        {
          "output_type": "execute_result",
          "data": {
            "text/plain": [
              "                                                text  targe\n",
              "0  بين أستوديوهات ورزازات وصحراء مرزوكة وآثار ولي...    0.0\n",
              "1  قررت النجمة الأمريكية أوبرا وينفري ألا يقتصر ع...    0.0\n",
              "2  أخبارنا المغربية الوزاني تصوير الشملالي ألهب ا...    0.0\n",
              "3  اخبارنا المغربية قال ابراهيم الراشدي محامي سعد...    0.0\n",
              "4  تزال صناعة الجلود في المغرب تتبع الطريقة التقل...    0.0"
            ],
            "text/html": [
              "\n",
              "  <div id=\"df-ec295aaa-dea9-4298-a3d9-29a0df024b3c\" class=\"colab-df-container\">\n",
              "    <div>\n",
              "<style scoped>\n",
              "    .dataframe tbody tr th:only-of-type {\n",
              "        vertical-align: middle;\n",
              "    }\n",
              "\n",
              "    .dataframe tbody tr th {\n",
              "        vertical-align: top;\n",
              "    }\n",
              "\n",
              "    .dataframe thead th {\n",
              "        text-align: right;\n",
              "    }\n",
              "</style>\n",
              "<table border=\"1\" class=\"dataframe\">\n",
              "  <thead>\n",
              "    <tr style=\"text-align: right;\">\n",
              "      <th></th>\n",
              "      <th>text</th>\n",
              "      <th>targe</th>\n",
              "    </tr>\n",
              "  </thead>\n",
              "  <tbody>\n",
              "    <tr>\n",
              "      <th>0</th>\n",
              "      <td>بين أستوديوهات ورزازات وصحراء مرزوكة وآثار ولي...</td>\n",
              "      <td>0.0</td>\n",
              "    </tr>\n",
              "    <tr>\n",
              "      <th>1</th>\n",
              "      <td>قررت النجمة الأمريكية أوبرا وينفري ألا يقتصر ع...</td>\n",
              "      <td>0.0</td>\n",
              "    </tr>\n",
              "    <tr>\n",
              "      <th>2</th>\n",
              "      <td>أخبارنا المغربية الوزاني تصوير الشملالي ألهب ا...</td>\n",
              "      <td>0.0</td>\n",
              "    </tr>\n",
              "    <tr>\n",
              "      <th>3</th>\n",
              "      <td>اخبارنا المغربية قال ابراهيم الراشدي محامي سعد...</td>\n",
              "      <td>0.0</td>\n",
              "    </tr>\n",
              "    <tr>\n",
              "      <th>4</th>\n",
              "      <td>تزال صناعة الجلود في المغرب تتبع الطريقة التقل...</td>\n",
              "      <td>0.0</td>\n",
              "    </tr>\n",
              "  </tbody>\n",
              "</table>\n",
              "</div>\n",
              "    <div class=\"colab-df-buttons\">\n",
              "\n",
              "  <div class=\"colab-df-container\">\n",
              "    <button class=\"colab-df-convert\" onclick=\"convertToInteractive('df-ec295aaa-dea9-4298-a3d9-29a0df024b3c')\"\n",
              "            title=\"Convert this dataframe to an interactive table.\"\n",
              "            style=\"display:none;\">\n",
              "\n",
              "  <svg xmlns=\"http://www.w3.org/2000/svg\" height=\"24px\" viewBox=\"0 -960 960 960\">\n",
              "    <path d=\"M120-120v-720h720v720H120Zm60-500h600v-160H180v160Zm220 220h160v-160H400v160Zm0 220h160v-160H400v160ZM180-400h160v-160H180v160Zm440 0h160v-160H620v160ZM180-180h160v-160H180v160Zm440 0h160v-160H620v160Z\"/>\n",
              "  </svg>\n",
              "    </button>\n",
              "\n",
              "  <style>\n",
              "    .colab-df-container {\n",
              "      display:flex;\n",
              "      gap: 12px;\n",
              "    }\n",
              "\n",
              "    .colab-df-convert {\n",
              "      background-color: #E8F0FE;\n",
              "      border: none;\n",
              "      border-radius: 50%;\n",
              "      cursor: pointer;\n",
              "      display: none;\n",
              "      fill: #1967D2;\n",
              "      height: 32px;\n",
              "      padding: 0 0 0 0;\n",
              "      width: 32px;\n",
              "    }\n",
              "\n",
              "    .colab-df-convert:hover {\n",
              "      background-color: #E2EBFA;\n",
              "      box-shadow: 0px 1px 2px rgba(60, 64, 67, 0.3), 0px 1px 3px 1px rgba(60, 64, 67, 0.15);\n",
              "      fill: #174EA6;\n",
              "    }\n",
              "\n",
              "    .colab-df-buttons div {\n",
              "      margin-bottom: 4px;\n",
              "    }\n",
              "\n",
              "    [theme=dark] .colab-df-convert {\n",
              "      background-color: #3B4455;\n",
              "      fill: #D2E3FC;\n",
              "    }\n",
              "\n",
              "    [theme=dark] .colab-df-convert:hover {\n",
              "      background-color: #434B5C;\n",
              "      box-shadow: 0px 1px 3px 1px rgba(0, 0, 0, 0.15);\n",
              "      filter: drop-shadow(0px 1px 2px rgba(0, 0, 0, 0.3));\n",
              "      fill: #FFFFFF;\n",
              "    }\n",
              "  </style>\n",
              "\n",
              "    <script>\n",
              "      const buttonEl =\n",
              "        document.querySelector('#df-ec295aaa-dea9-4298-a3d9-29a0df024b3c button.colab-df-convert');\n",
              "      buttonEl.style.display =\n",
              "        google.colab.kernel.accessAllowed ? 'block' : 'none';\n",
              "\n",
              "      async function convertToInteractive(key) {\n",
              "        const element = document.querySelector('#df-ec295aaa-dea9-4298-a3d9-29a0df024b3c');\n",
              "        const dataTable =\n",
              "          await google.colab.kernel.invokeFunction('convertToInteractive',\n",
              "                                                    [key], {});\n",
              "        if (!dataTable) return;\n",
              "\n",
              "        const docLinkHtml = 'Like what you see? Visit the ' +\n",
              "          '<a target=\"_blank\" href=https://colab.research.google.com/notebooks/data_table.ipynb>data table notebook</a>'\n",
              "          + ' to learn more about interactive tables.';\n",
              "        element.innerHTML = '';\n",
              "        dataTable['output_type'] = 'display_data';\n",
              "        await google.colab.output.renderOutput(dataTable, element);\n",
              "        const docLink = document.createElement('div');\n",
              "        docLink.innerHTML = docLinkHtml;\n",
              "        element.appendChild(docLink);\n",
              "      }\n",
              "    </script>\n",
              "  </div>\n",
              "\n",
              "\n",
              "    <div id=\"df-9c9d4a51-121b-4798-bd48-729dc48bde6a\">\n",
              "      <button class=\"colab-df-quickchart\" onclick=\"quickchart('df-9c9d4a51-121b-4798-bd48-729dc48bde6a')\"\n",
              "                title=\"Suggest charts\"\n",
              "                style=\"display:none;\">\n",
              "\n",
              "<svg xmlns=\"http://www.w3.org/2000/svg\" height=\"24px\"viewBox=\"0 0 24 24\"\n",
              "     width=\"24px\">\n",
              "    <g>\n",
              "        <path d=\"M19 3H5c-1.1 0-2 .9-2 2v14c0 1.1.9 2 2 2h14c1.1 0 2-.9 2-2V5c0-1.1-.9-2-2-2zM9 17H7v-7h2v7zm4 0h-2V7h2v10zm4 0h-2v-4h2v4z\"/>\n",
              "    </g>\n",
              "</svg>\n",
              "      </button>\n",
              "\n",
              "<style>\n",
              "  .colab-df-quickchart {\n",
              "      --bg-color: #E8F0FE;\n",
              "      --fill-color: #1967D2;\n",
              "      --hover-bg-color: #E2EBFA;\n",
              "      --hover-fill-color: #174EA6;\n",
              "      --disabled-fill-color: #AAA;\n",
              "      --disabled-bg-color: #DDD;\n",
              "  }\n",
              "\n",
              "  [theme=dark] .colab-df-quickchart {\n",
              "      --bg-color: #3B4455;\n",
              "      --fill-color: #D2E3FC;\n",
              "      --hover-bg-color: #434B5C;\n",
              "      --hover-fill-color: #FFFFFF;\n",
              "      --disabled-bg-color: #3B4455;\n",
              "      --disabled-fill-color: #666;\n",
              "  }\n",
              "\n",
              "  .colab-df-quickchart {\n",
              "    background-color: var(--bg-color);\n",
              "    border: none;\n",
              "    border-radius: 50%;\n",
              "    cursor: pointer;\n",
              "    display: none;\n",
              "    fill: var(--fill-color);\n",
              "    height: 32px;\n",
              "    padding: 0;\n",
              "    width: 32px;\n",
              "  }\n",
              "\n",
              "  .colab-df-quickchart:hover {\n",
              "    background-color: var(--hover-bg-color);\n",
              "    box-shadow: 0 1px 2px rgba(60, 64, 67, 0.3), 0 1px 3px 1px rgba(60, 64, 67, 0.15);\n",
              "    fill: var(--button-hover-fill-color);\n",
              "  }\n",
              "\n",
              "  .colab-df-quickchart-complete:disabled,\n",
              "  .colab-df-quickchart-complete:disabled:hover {\n",
              "    background-color: var(--disabled-bg-color);\n",
              "    fill: var(--disabled-fill-color);\n",
              "    box-shadow: none;\n",
              "  }\n",
              "\n",
              "  .colab-df-spinner {\n",
              "    border: 2px solid var(--fill-color);\n",
              "    border-color: transparent;\n",
              "    border-bottom-color: var(--fill-color);\n",
              "    animation:\n",
              "      spin 1s steps(1) infinite;\n",
              "  }\n",
              "\n",
              "  @keyframes spin {\n",
              "    0% {\n",
              "      border-color: transparent;\n",
              "      border-bottom-color: var(--fill-color);\n",
              "      border-left-color: var(--fill-color);\n",
              "    }\n",
              "    20% {\n",
              "      border-color: transparent;\n",
              "      border-left-color: var(--fill-color);\n",
              "      border-top-color: var(--fill-color);\n",
              "    }\n",
              "    30% {\n",
              "      border-color: transparent;\n",
              "      border-left-color: var(--fill-color);\n",
              "      border-top-color: var(--fill-color);\n",
              "      border-right-color: var(--fill-color);\n",
              "    }\n",
              "    40% {\n",
              "      border-color: transparent;\n",
              "      border-right-color: var(--fill-color);\n",
              "      border-top-color: var(--fill-color);\n",
              "    }\n",
              "    60% {\n",
              "      border-color: transparent;\n",
              "      border-right-color: var(--fill-color);\n",
              "    }\n",
              "    80% {\n",
              "      border-color: transparent;\n",
              "      border-right-color: var(--fill-color);\n",
              "      border-bottom-color: var(--fill-color);\n",
              "    }\n",
              "    90% {\n",
              "      border-color: transparent;\n",
              "      border-bottom-color: var(--fill-color);\n",
              "    }\n",
              "  }\n",
              "</style>\n",
              "\n",
              "      <script>\n",
              "        async function quickchart(key) {\n",
              "          const quickchartButtonEl =\n",
              "            document.querySelector('#' + key + ' button');\n",
              "          quickchartButtonEl.disabled = true;  // To prevent multiple clicks.\n",
              "          quickchartButtonEl.classList.add('colab-df-spinner');\n",
              "          try {\n",
              "            const charts = await google.colab.kernel.invokeFunction(\n",
              "                'suggestCharts', [key], {});\n",
              "          } catch (error) {\n",
              "            console.error('Error during call to suggestCharts:', error);\n",
              "          }\n",
              "          quickchartButtonEl.classList.remove('colab-df-spinner');\n",
              "          quickchartButtonEl.classList.add('colab-df-quickchart-complete');\n",
              "        }\n",
              "        (() => {\n",
              "          let quickchartButtonEl =\n",
              "            document.querySelector('#df-9c9d4a51-121b-4798-bd48-729dc48bde6a button');\n",
              "          quickchartButtonEl.style.display =\n",
              "            google.colab.kernel.accessAllowed ? 'block' : 'none';\n",
              "        })();\n",
              "      </script>\n",
              "    </div>\n",
              "\n",
              "    </div>\n",
              "  </div>\n"
            ],
            "application/vnd.google.colaboratory.intrinsic+json": {
              "type": "dataframe",
              "variable_name": "df",
              "summary": "{\n  \"name\": \"df\",\n  \"rows\": 1717,\n  \"fields\": [\n    {\n      \"column\": \"text\",\n      \"properties\": {\n        \"dtype\": \"string\",\n        \"num_unique_values\": 1711,\n        \"samples\": [\n          \"\\u0646\\u0627\\u0644 \\u0627\\u0644\\u0645\\u062e\\u0631\\u062c \\u0639\\u0628\\u062f \\u0627\\u0644\\u062d\\u064a \\u0627\\u0644\\u0639\\u0631\\u0627\\u0642\\u064a \\u062d\\u0635\\u0629 \\u0627\\u0644\\u0623\\u0633\\u062f \\u0645\\u0646 \\u0645\\u062c\\u0645\\u0648\\u0639 \\u0627\\u0644\\u062f\\u0639\\u0645 \\u0627\\u0644\\u0645\\u062e\\u0635\\u0635 \\u0644\\u0625\\u0646\\u062a\\u0627\\u062c \\u0627\\u0644\\u0623\\u0641\\u0644\\u0627\\u0645 \\u0627\\u0644\\u0633\\u064a\\u0646\\u0645\\u0627\\u0626\\u064a\\u0629 \\u0644\\u0640 \\u0648\\u0645\\u0646\\u062d\\u062a \\u0644\\u062c\\u0646\\u0629 \\u0627\\u0644\\u062f\\u0639\\u0645 \\u0645\\u0628\\u0644\\u063a \\u0645\\u0644\\u0627\\u064a\\u064a\\u0646 \\u0623\\u0644\\u0641 \\u062f\\u0631\\u0647\\u0645 \\u0644\\u0644\\u0639\\u0631\\u0627\\u0642\\u064a \\u0645\\u0646 \\u0623\\u062c\\u0644 \\u0625\\u062e\\u0631\\u0627\\u062c \\u0623\\u0648\\u0644\\u0627\\u062f \\u0627\\u0644\\u0637\\u0627\\u0644\\u0639\\u0629 \\u0627\\u0644\\u0643\\u0628\\u064a\\u0631\\u0629 \\u00bb\\u060c \\u0641\\u064a\\u0645\\u0627 \\u0623\\u0639\\u0637\\u062a \\u0645\\u0644\\u0627\\u064a\\u064a\\u0646 \\u062f\\u0631\\u0647\\u0645 \\u0644\\u0643\\u0644 \\u0645\\u0646 \\u0643\\u062a\\u0627\\u0628 \\u0627\\u0644\\u062d\\u064a\\u0627\\u0629 \\u0627\\u0644\\u0645\\u062a\\u0648\\u062d\\u0634\\u0629 \\u0644\\u0645\\u0646\\u064a\\u0631 \\u0639\\u0628\\u0627\\u0631 \\u0645\\u0627\\u0645\\u0641\\u0627\\u0643\\u064a\\u0646\\u0634 \\u0644\\u0639\\u0628\\u062f \\u0627\\u0644\\u0642\\u0627\\u062f\\u0631 \\u0644\\u0642\\u0637\\u0639 \\u0648\\u0643\\u0648\\u0631\\u0633\\u0627 \\u0644\\u0639\\u0628\\u062f \\u0627\\u0644\\u0644\\u0647 \\u0641\\u0631\\u0643\\u0648\\u0633 \\u0648\\u0644\\u0627\\u0644\\u0629 \\u0639\\u064a\\u0634\\u0629 \\u0644\\u0645\\u062d\\u0645\\u062f \\u0627\\u0644\\u0628\\u062f\\u0648\\u064a \\u062b\\u0645 \\u0627\\u0645\\u0631\\u0623\\u0629 \\u0641\\u064a \\u0627\\u0644\\u0638\\u0644 \\u0644\\u062c\\u0645\\u0627\\u0644 \\u0628\\u0644\\u0645\\u062c\\u062f\\u0648\\u0628 \\u0648\\u062d\\u0633\\u0628 \\u0627\\u0644\\u0646\\u062a\\u0627\\u0626\\u062c \\u0627\\u0644\\u0645\\u0639\\u0644\\u0646 \\u0639\\u0646\\u0647\\u0627 \\u0642\\u062f\\u0645\\u062a \\u0627\\u0644\\u0644\\u062c\\u0646\\u0629 \\u062f\\u0639\\u0645\\u0627 \\u0645\\u0627 \\u0642\\u0628\\u0644 \\u0627\\u0644\\u0625\\u0646\\u062a\\u0627\\u062c \\u0644\\u0633\\u062a\\u0629 \\u0623\\u0641\\u0644\\u0627\\u0645 \\u0648\\u062b\\u0627\\u0626\\u0642\\u064a\\u0629 \\u062d\\u0648\\u0644 \\u0627\\u0644\\u062b\\u0642\\u0627\\u0641\\u0629 \\u0648\\u0627\\u0644\\u062a\\u0627\\u0631\\u064a\\u062e \\u0648\\u0627\\u0644\\u0645\\u062c\\u0627\\u0644 \\u0627\\u0644\\u0635\\u062d\\u0631\\u0627\\u0648\\u064a \\u0627\\u0644\\u062d\\u0633\\u0627\\u0646\\u064a \\u0648\\u064a\\u062a\\u0639\\u0644\\u0642 \\u0627\\u0644\\u0623\\u0645\\u0631 \\u0628\\u0640 \\u0633\\u0627\\u0631\\u0627\\u062a\\u0648 \\u0627\\u0644\\u0645\\u0627\\u0644\\u064a\\u0629 \\u0644\\u064a\\u0648\\u0646\\u0633 \\u0627\\u0644\\u0631\\u0643\\u0627\\u0628 \\u0645\\u0644\\u064a\\u0648\\u0646 \\u062f\\u0631\\u0647\\u0645 \\u0646\\u0648\\u064a\\u0633\\u062a\\u0631\\u0627 \\u0633\\u064a\\u0646\\u064a\\u0648\\u0631\\u0627 \\u062f\\u064a \\u0644\\u0627\\u0633 \\u0623\\u0646\\u063a\\u0648\\u0633\\u062a\\u0631\\u0627\\u0633 \\u0644\\u0641\\u0627\\u0637\\u0645\\u0629 \\u0627\\u0644\\u062c\\u0627\\u0628\\u064a\\u0629 \\u0645\\u0644\\u064a\\u0648\\u0646 \\u062f\\u0631\\u0647\\u0645 \\u0623\\u0635\\u062f\\u0627\\u0621 \\u0627\\u0644\\u0635\\u062d\\u0631\\u0627\\u0621 \\u0644\\u0631\\u0634\\u064a\\u062f \\u0627\\u0644\\u0642\\u0627\\u0633\\u0645\\u064a \\u0623\\u0644\\u0641 \\u062f\\u0631\\u0647\\u0645 \\u0634\\u064a\\u0637\\u0627\\u0646 \\u0627\\u0644\\u0632\\u0627\\u0648\\u064a\\u0629 \\u0644\\u0639\\u0628\\u062f \\u0627\\u0644\\u062d\\u0642 \\u0627\\u0644\\u0634\\u0639\\u0628\\u064a \\u0623\\u0644\\u0641 \\u062f\\u0631\\u0647\\u0645 \\u0648\\u0627\\u062f \\u0646\\u0648\\u0646 \\u0645\\u0646 \\u062e\\u0644\\u0627\\u0644 \\u062a\\u062c\\u0627\\u0631\\u0629 \\u0627\\u0644\\u0642\\u0648\\u0627\\u0641\\u0644 \\u0644\\u064a\\u0627\\u0633\\u064a\\u0646 \\u0622\\u064a\\u062a \\u0627\\u0644\\u0641\\u0642\\u064a\\u0631 \\u0623\\u0644\\u0641 \\u062f\\u0631\\u0647\\u0645 \\u0625\\u0646\\u0633\\u0627\\u0646 \\u0627\\u0644\\u0635\\u062d\\u0631\\u0627\\u0621 \\u0645\\u0627 \\u0642\\u0628\\u0644 \\u0627\\u0644\\u062a\\u0627\\u0631\\u064a\\u062e \\u0644\\u0631\\u0634\\u064a\\u062f \\u0632\\u0643\\u064a \\u0623\\u0644\\u0641 \\u062f\\u0631\\u0647\\u0645 \\u0643\\u0645\\u0627 \\u0645\\u0646\\u062d\\u062a \\u0627\\u0644\\u0644\\u062c\\u0646\\u0629 \\u062f\\u0639\\u0645\\u0627 \\u0645\\u0627 \\u0628\\u0639\\u062f \\u0627\\u0644\\u0625\\u0646\\u062a\\u0627\\u062c \\u0644\\u0641\\u064a\\u0644\\u0645\\u064a\\u0646 \\u0647\\u0645\\u0627 \\u0627\\u0644\\u0641\\u064a\\u0644\\u0645 \\u0627\\u0644\\u0648\\u062b\\u0627\\u0626\\u0642\\u064a \\u0627\\u0644\\u0631\\u0648\\u0627\\u0626\\u064a \\u0639\\u0644\\u0649 \\u0637\\u0631\\u064a\\u0642 \\u0627\\u0644\\u0641\\u0648\\u0633\\u0641\\u0627\\u0637 \\u0644\\u0645\\u062d\\u0645\\u062f \\u0627\\u0644\\u0646\\u0638\\u0631\\u0627\\u0646\\u064a \\u0648\\u0645\\u0644\\u064a\\u0643\\u0629 \\u0627\\u0644\\u0645\\u0627\\u0646\\u0648\\u0643 \\u0623\\u0644\\u0641 \\u062f\\u0631\\u0647\\u0645 \\u0648\\u0627\\u0644\\u0641\\u064a\\u0644\\u0645 \\u0627\\u0644\\u0645\\u0637\\u0648\\u0644 \\u0646\\u0648\\u0631 \\u0627\\u0644\\u0638\\u0644\\u0627\\u0645 \\u0644\\u062e\\u0648\\u0644\\u0629 \\u0623\\u0633\\u0628\\u0627\\u0628 \\u0623\\u0644\\u0641 \\u062f\\u0631\\u0647\\u0645\",\n          \"\\u0627\\u0644\\u0643\\u0648\\u0645\\u064a\\u062f\\u064a \\u0642\\u0627\\u0644 \\u0625\\u0646 \\u0641\\u0643\\u0627\\u0647\\u064a\\u064a\\u0646 \\u0645\\u0646 \\u0627\\u0644\\u062c\\u064a\\u0644 \\u0627\\u0644\\u0633\\u0627\\u0628\\u0642 \\u0644\\u0645 \\u064a\\u0637\\u0648\\u0631\\u0648\\u0627 \\u0623\\u062f\\u0627\\u0621\\u0647\\u0645 \\u0641\\u0633\\u0642\\u0637\\u0648\\u0627 \\u0641\\u064a \\u0627\\u0644\\u0646\\u0645\\u0637\\u064a\\u0629 \\u0623\\u0643\\u062f \\u0627\\u0644\\u0641\\u0646\\u0627\\u0646 \\u0627\\u0644\\u0643\\u0648\\u0645\\u064a\\u062f\\u064a \\u0631\\u0634\\u064a\\u062f \\u0631\\u0641\\u064a\\u0642 \\u0623\\u0646\\u0647 \\u0644\\u062c\\u0623 \\u0625\\u0644\\u0649 \\u062a\\u0642\\u062f\\u064a\\u0645 \\u0648\\u0635\\u0644\\u0627\\u062a \\u0625\\u0634\\u0647\\u0627\\u0631\\u064a\\u0629 \\u0631\\u063a\\u0628\\u0629 \\u0645\\u0646\\u0647 \\u0641\\u064a \\u062a\\u062d\\u0642\\u064a\\u0642 \\u0627\\u0646\\u062a\\u0634\\u0627\\u0631 \\u0623\\u0648\\u0633\\u0639 \\u0643\\u0645\\u0627 \\u0623\\u0646\\u0647 \\u0627\\u0633\\u062a\\u0637\\u0627\\u0639 \\u0639\\u0644\\u0649 \\u062d\\u062f \\u0642\\u0648\\u0644\\u0647 \\u0623\\u0646 \\u064a\\u062f\\u062e\\u0644 \\u0645\\u0646\\u0627\\u0632\\u0644 \\u0627\\u0644\\u062c\\u0645\\u0647\\u0648\\u0631 \\u0635\\u062d\\u0629 \\u0648\\u0623\\u0636\\u0627\\u0641 \\u0631\\u0634\\u064a\\u062f \\u0631\\u0641\\u064a\\u0642 \\u0623\\u0646 \\u0623\\u063a\\u0644\\u0628 \\u0641\\u0643\\u0627\\u0647\\u064a\\u064a \\u0627\\u0644\\u062c\\u064a\\u0644 \\u0627\\u0644\\u0633\\u0627\\u0628\\u0642 \\u0644\\u0645 \\u064a\\u0633\\u0639\\u0648\\u0627 \\u0625\\u0644\\u0649 \\u062a\\u0637\\u0648\\u064a\\u0631 \\u0623\\u062f\\u0627\\u0626\\u0647\\u0645 \\u0645\\u0627 \\u062c\\u0639\\u0644\\u0647\\u0645 \\u064a\\u0633\\u0642\\u0637\\u0648\\u0646 \\u0641\\u064a \\u062f\\u0627\\u0626\\u0631\\u0629 \\u0627\\u0644\\u0646\\u0645\\u0637\\u064a\\u0629 \\u0639\\u0646 \\u0647\\u0630\\u0647 \\u0627\\u0644\\u0645\\u062d\\u0627\\u0648\\u0631 \\u0648\\u0623\\u062e\\u0631\\u0649 \\u064a\\u062a\\u062d\\u062f\\u062b \\u0631\\u0634\\u064a\\u062f \\u0631\\u0641\\u064a\\u0642 \\u0627\\u0644\\u0635\\u0628\\u0627\\u062d \\u0641\\u064a \\u0627\\u0644\\u062d\\u0648\\u0627\\u0631 \\u0627\\u0644\\u062a\\u0627\\u0644\\u064a \\u0643\\u064a\\u0641 \\u0647\\u064a \\u0639\\u0644\\u0627\\u0642\\u062a\\u0643 \\u0628\\u0627\\u0644\\u0627\\u0631\\u062a\\u062c\\u0627\\u0644 \\u0644\\u0627 \\u064a\\u0645\\u0643\\u0646 \\u0623\\u0646 \\u0623\\u0633\\u062a\\u063a\\u0646\\u064a \\u0639\\u0646 \\u0627\\u0644\\u0627\\u0631\\u062a\\u062c\\u0627\\u0644 \\u0641\\u0647\\u0648 \\u0637\\u0631\\u064a\\u0642\\u062a\\u064a \\u0641\\u064a \\u0627\\u0644\\u0627\\u0634\\u062a\\u063a\\u0627\\u0644 \\u0641\\u0645\\u062b\\u0644\\u0627 \\u0641\\u064a \\u0633\\u064a\\u062a\\u0643\\u0648\\u0645 \\u0644\\u0648\\u0628\\u064a\\u0631\\u062c \\u0644\\u0645 \\u0623\\u0643\\u0646 \\u0623\\u062a\\u0642\\u064a\\u062f \\u0628\\u0627\\u0644\\u0633\\u064a\\u0646\\u0627\\u0631\\u064a\\u0648 \\u0639\\u0644\\u0649 \\u063a\\u0631\\u0627\\u0631 \\u0645\\u0627 \\u064a\\u062a\\u0645 \\u0627\\u0644\\u0639\\u0645\\u0644 \\u0628\\u0647 \\u0641\\u064a \\u0627\\u0644\\u0645\\u0633\\u0644\\u0633\\u0644\\u0627\\u062a \\u0627\\u0644\\u0633\\u0648\\u0631\\u064a\\u0629 \\u0641\\u062f\\u0627\\u0626\\u0645\\u0627 \\u0623\\u062e\\u0631\\u062c \\u0639\\u0646 \\u0627\\u0644\\u0646\\u0635 \\u0648\\u0647\\u0630\\u0627 \\u0623\\u0645\\u0631 \\u0644\\u0627 \\u0623\\u0639\\u062a\\u0642\\u062f \\u0623\\u0646 \\u0627\\u0644\\u062c\\u0645\\u064a\\u0639 \\u064a\\u0645\\u0643\\u0646 \\u0627\\u0644\\u0642\\u064a\\u0627\\u0645 \\u0628\\u0647 \\u0641\\u0647\\u0648 \\u0645\\u0648\\u0647\\u0628\\u0629 \\u0627\\u0644\\u0623\\u0645\\u0631 \\u0646\\u0641\\u0633\\u0647 \\u0627\\u0644\\u0630\\u064a \\u0639\\u0634\\u062a\\u0647 \\u0641\\u064a \\u0639\\u062f\\u0629 \\u0633\\u0643\\u064a\\u062a\\u0634\\u0627\\u062a \\u0643\\u0646\\u062a \\u0623\\u0639\\u062a\\u0645\\u062f \\u0641\\u064a\\u0647\\u0627 \\u0639\\u0644\\u0649 \\u0627\\u0644\\u0627\\u0631\\u062a\\u062c\\u0627\\u0644 \\u0625\\u0644\\u0649 \\u062f\\u0631\\u062c\\u0629 \\u0623\\u0646\\u0646\\u064a \\u0623\\u0636\\u062d\\u0643 \\u0645\\u0645\\u0627 \\u0623\\u0642\\u0648\\u0644\\u0647 \\u0628\\u0639\\u0641\\u0648\\u064a\\u0629 \\u0648\\u0628\\u0627\\u0644\\u062a\\u0627\\u0644\\u064a \\u0623\\u0643\\u0648\\u0646 \\u0645\\u062a\\u0623\\u0643\\u062f\\u0627 \\u0623\\u0646 \\u0627\\u0644\\u062c\\u0645\\u0647\\u0648\\u0631 \\u0633\\u064a\\u0636\\u062d\\u0643 \\u0628\\u062f\\u0648\\u0631\\u0647 \\u0645\\u0646 \\u0647\\u0645 \\u0627\\u0644\\u0641\\u0643\\u0627\\u0647\\u064a\\u0648\\u0646 \\u0627\\u0644\\u0645\\u063a\\u0627\\u0631\\u0628\\u0629 \\u0645\\u0646 \\u0627\\u0644\\u062c\\u064a\\u0644 \\u0627\\u0644\\u0633\\u0627\\u0628\\u0642 \\u0627\\u0644\\u0630\\u064a\\u0646 \\u062a\\u0639\\u062c\\u0628\\u0643 \\u0637\\u0631\\u064a\\u0642\\u0629 \\u0627\\u0634\\u062a\\u063a\\u0627\\u0644\\u0647\\u0645 \\u064a\\u0639\\u062a\\u0628\\u0631 \\u062d\\u0633\\u0646 \\u0627\\u0644\\u0641\\u0630 \\u0627\\u0644\\u0637\\u0648\\u0628 \\u0641\\u064a \\u0642\\u0627\\u0626\\u0645\\u0629 \\u0627\\u0644\\u0641\\u0643\\u0627\\u0647\\u064a\\u064a\\u0646 \\u0625\\u0630 \\u0627\\u0633\\u062a\\u0637\\u0627\\u0639 \\u0623\\u0646 \\u064a\\u062a\\u0631\\u0628\\u0639 \\u0639\\u0644\\u0649 \\u0639\\u0631\\u0634 \\u0627\\u0644\\u0643\\u0648\\u0645\\u064a\\u062f\\u064a\\u0627 \\u0627\\u0644\\u0645\\u063a\\u0631\\u0628\\u064a\\u0629 \\u0648\\u0643\\u0630\\u0644\\u0643 \\u0627\\u0644\\u0641\\u0646\\u0627\\u0646 \\u0645\\u062d\\u0645\\u062f \\u0627\\u0644\\u062c\\u0645 \\u0627\\u0644\\u0630\\u064a \\u062d\\u0627\\u0641\\u0638 \\u0639\\u0644\\u0649 \\u062e\\u0641\\u0629 \\u0627\\u0644\\u062f\\u0645 \\u0627\\u0644\\u062a\\u064a \\u0627\\u0639\\u062a\\u0627\\u062f \\u0639\\u0644\\u064a\\u0647\\u0627 \\u062c\\u0645\\u0647\\u0648\\u0631\\u0647 \\u0645\\u0627\\u0630\\u0627 \\u0639\\u0646 \\u0628\\u0627\\u0642\\u064a \\u0627\\u0644\\u0641\\u0643\\u0627\\u0647\\u064a\\u064a\\u0646 \\u0623\\u063a\\u0644\\u0628 \\u0627\\u0644\\u0641\\u0643\\u0627\\u0647\\u064a\\u064a\\u0646 \\u0645\\u0646 \\u0627\\u0644\\u062c\\u064a\\u0644 \\u0627\\u0644\\u0633\\u0627\\u0628\\u0642 \\u0644\\u0645 \\u064a\\u0633\\u0639\\u0648\\u0627 \\u0625\\u0644\\u0649 \\u062a\\u062c\\u062f\\u064a\\u062f \\u0623\\u062f\\u0627\\u0626\\u0647\\u0645 \\u0641\\u0648\\u0642\\u0639\\u0648\\u0627 \\u0641\\u064a \\u062f\\u0627\\u0626\\u0631\\u0629 \\u0627\\u0644\\u0646\\u0645\\u0637\\u064a\\u0629 \\u0648\\u0623\\u063a\\u0644\\u0628\\u0647\\u0645 \\u0645\\u0627\\u0632\\u0627\\u0644 \\u064a\\u0639\\u064a\\u0634 \\u0641\\u064a \\u0627\\u0644\\u062f\\u0648\\u0631 \\u0646\\u0641\\u0633\\u0647 \\u0627\\u0644\\u0630\\u064a \\u0644\\u0642\\u064a \\u0646\\u062c\\u0627\\u062d\\u0627 \\u0645\\u0646\\u0630 \\u0633\\u0646\\u0648\\u0627\\u062a \\u0637\\u064a\\u0644\\u0629 \\u0645\\u0633\\u0627\\u0631\\u0647 \\u0627\\u0644\\u0641\\u0646\\u064a \\u0648\\u0644\\u0645 \\u064a\\u0647\\u062a\\u0645 \\u0628\\u062a\\u0637\\u0648\\u064a\\u0631 \\u0639\\u0645\\u0644\\u0647 \\u0628\\u0639\\u062f \\u0634\\u062e\\u0635\\u064a\\u0629 \\u0631\\u064a\\u0627\\u0646 \\u0627\\u0644\\u062a\\u064a \\u062a\\u0642\\u0645\\u0635\\u062a\\u0647\\u0627 \\u0641\\u064a \\u0644\\u0648\\u0628\\u064a\\u0631\\u062c \\u201d\\u060c \\u0647\\u0644 \\u0633\\u062a\\u0637\\u0644 \\u0628\\u0634\\u062e\\u0635\\u064a\\u0629 \\u062c\\u062f\\u064a\\u062f\\u0629 \\u062e\\u0644\\u0627\\u0644 \\u0631\\u0645\\u0636\\u0627\\u0646 \\u0623\\u0633\\u062a\\u0639\\u062f \\u0644\\u0644\\u0645\\u0634\\u0627\\u0631\\u0643\\u0629 \\u0641\\u064a \\u0623\\u062f\\u0648\\u0627\\u0631 \\u062c\\u062f\\u064a\\u062f\\u0629 \\u062e\\u0644\\u0627\\u0644 \\u0631\\u0645\\u0636\\u0627\\u0646 \\u0627\\u0644\\u0645\\u0642\\u0628\\u0644 \\u0648\\u0627\\u0644\\u062a\\u064a \\u0633\\u0623\\u0648\\u0642\\u0639 \\u0627\\u0644\\u0639\\u0642\\u062f \\u0628\\u0634\\u0623\\u0646\\u0647\\u0627 \\u062e\\u0644\\u0627\\u0644 \\u0627\\u0644\\u0623\\u064a\\u0627\\u0645 \\u0627\\u0644\\u0645\\u0642\\u0628\\u0644\\u0629 \\u0648\\u0623\\u0643\\u064a\\u062f \\u0633\\u062a\\u0643\\u0648\\u0646 \\u0627\\u0644\\u0634\\u062e\\u0635\\u064a\\u0629 \\u0627\\u0644\\u062a\\u064a \\u0623\\u062c\\u0633\\u062f\\u0647\\u0627 \\u0645\\u062e\\u062a\\u0644\\u0641\\u0629 \\u0639\\u0646 \\u0631\\u064a\\u0627\\u0646 \\u0627\\u0644\\u062a\\u064a \\u0642\\u062f\\u0645\\u062a\\u0647\\u0627 \\u0641\\u064a \\u0627\\u0644\\u0645\\u0648\\u0633\\u0645 \\u0627\\u0644\\u0631\\u0645\\u0636\\u0627\\u0646\\u064a \\u0627\\u0644\\u0645\\u0627\\u0636\\u064a \\u0648\\u0627\\u0644\\u062a\\u064a \\u0643\\u0646\\u062a \\u062d\\u062a\\u0649 \\u0628\\u0639\\u062f \\u0639\\u0648\\u062f\\u062a\\u064a \\u0625\\u0644\\u0649 \\u0627\\u0644\\u0628\\u064a\\u062a \\u0623\\u0642\\u0648\\u0645 \\u0628\\u062d\\u0631\\u0643\\u0627\\u062a\\u0647\\u0627 \\u0648\\u0623\\u0639\\u064a\\u0634 \\u062f\\u0627\\u062e\\u0644\\u0647\\u0627 \\u0625\\u0644\\u0649 \\u062f\\u0631\\u062c\\u0629 \\u0623\\u0646 \\u0627\\u0644\\u0623\\u0645\\u0631 \\u0623\\u062b\\u0627\\u0631 \\u0627\\u0646\\u062a\\u0628\\u0627\\u0647 \\u0623\\u0641\\u0631\\u0627\\u062f \\u0639\\u0627\\u0626\\u0644\\u062a\\u064a \\u0645\\u0627 \\u0631\\u0623\\u064a\\u0643 \\u0641\\u064a \\u0645\\u0633\\u062a\\u0648\\u0649 \\u0627\\u0644\\u0645\\u0648\\u0627\\u0647\\u0628 \\u0627\\u0644\\u0645\\u0634\\u0627\\u0631\\u0643\\u0629 \\u0641\\u064a \\u0628\\u0631\\u0646\\u0627\\u0645\\u062c \\u0633\\u062a\\u0627\\u0646\\u062f \\u0623\\u0628 \\u201d\\u061f \\u0625\\u0646 \\u0628\\u0631\\u0646\\u0627\\u0645\\u062c \\u0633\\u062a\\u0627\\u0646\\u062f \\u0623\\u0628 \\u0645\\u0627\\u0632\\u0627\\u0644 \\u0641\\u064a \\u0628\\u062f\\u0627\\u064a\\u062a\\u0647 \\u0648\\u0628\\u0627\\u0644\\u062a\\u0627\\u0644\\u064a \\u0639\\u0644\\u064a\\u0646\\u0627 \\u0623\\u0646 \\u0646\\u062a\\u062d\\u0644\\u0649 \\u0628\\u0627\\u0644\\u0635\\u0628\\u0631 \\u0648\\u0644\\u0627 \\u0646\\u062d\\u0643\\u0645 \\u0639\\u0644\\u0649 \\u0627\\u0644\\u0645\\u0634\\u0627\\u0631\\u0643\\u064a\\u0646 \\u0648\\u0644\\u0627 \\u0646\\u0648\\u062c\\u0647 \\u0623\\u064a \\u0646\\u0642\\u062f \\u0644\\u0647\\u0645 \\u0648\\u0623\\u0642\\u0648\\u0644 \\u0647\\u0630\\u0627 \\u0644\\u0623\\u0646\\u0646\\u064a \\u062e\\u0636\\u062a \\u0627\\u0644\\u062a\\u062c\\u0631\\u0628\\u0629 \\u0646\\u0641\\u0633\\u0647\\u0627 \\u0648\\u0641\\u064a \\u0627\\u0644\\u0628\\u062f\\u0627\\u064a\\u0629 \\u0644\\u0645 \\u0623\\u0643\\u0646 \\u0645\\u0634\\u0647\\u0648\\u0631\\u0627 \\u0648\\u0644\\u0645 \\u0623\\u0643\\u0646 \\u0623\\u062d\\u0638\\u0649 \\u0643\\u062b\\u064a\\u0631\\u0627 \\u0628\\u0627\\u0644\\u0625\\u0639\\u062c\\u0627\\u0628 \\u0645\\u0646 \\u0627\\u0644\\u0623\\u0634\\u062e\\u0627\\u0635 \\u0648\\u0631\\u0628\\u0645\\u0627 \\u0645\\u0627\\u0632\\u0627\\u0644 \\u0627\\u0644\\u0623\\u0645\\u0631 \\u064a\\u062a\\u0643\\u0631\\u0631 \\u0645\\u0639 \\u0634\\u0631\\u064a\\u062d\\u0629 \\u0645\\u0646 \\u0627\\u0644\\u062c\\u0645\\u0647\\u0648\\u0631 \\u0648\\u0630\\u0643\\u0631\\u062a \\u0627\\u0644\\u0635\\u0628\\u0631 \\u0644\\u0623\\u0646 \\u0623\\u064a \\u0645\\u0648\\u0647\\u0628\\u0629 \\u062a\\u062d\\u062a\\u0627\\u062c \\u0625\\u0644\\u0649 \\u0648\\u0642\\u062a \\u0644\\u062a\\u0642\\u062f\\u064a\\u0645 \\u0628\\u0635\\u0645\\u062a\\u0647\\u0627 \\u0648\\u0627\\u0644\\u062a\\u064a \\u064a\\u0645\\u0643\\u0646 \\u0641\\u064a \\u0645\\u0627 \\u0628\\u0639\\u062f \\u0628\\u0645\\u062c\\u0631\\u062f \\u0631\\u0624\\u064a\\u062a\\u0647\\u0627 \\u064a\\u0636\\u062d\\u0643 \\u0627\\u0644\\u062c\\u0645\\u0647\\u0648\\u0631 \\u0642\\u0628\\u0644 \\u0623\\u0646 \\u062a\\u062a\\u0643\\u0644\\u0645 \\u0643\\u0645\\u0627 \\u0647\\u0648 \\u0627\\u0644\\u0634\\u0623\\u0646 \\u0628\\u0627\\u0644\\u0646\\u0633\\u0628\\u0629 \\u0625\\u0644\\u0649 \\u0627\\u0644\\u0641\\u0643\\u0627\\u0647\\u064a \\u062d\\u0633\\u0646 \\u0627\\u0644\\u0641\\u0630 \\u0647\\u0644 \\u0646\\u062c\\u062d \\u0627\\u0644\\u0628\\u0639\\u0636 \\u0641\\u064a \\u0625\\u0636\\u062d\\u0627\\u0643\\u0643 \\u0644\\u0645 \\u0623\\u0634\\u0627\\u0647\\u062f \\u0633\\u0648\\u0649 \\u0628\\u0631\\u0627\\u064a\\u0645 \\u0648\\u0627\\u062d\\u062f \\u0648\\u062a\\u0627\\u0628\\u0639\\u062a \\u0628\\u0631\\u0627\\u064a\\u0645\\u0627\\u062a \\u0623\\u062e\\u0631\\u0649 \\u0639\\u0644\\u0649 \\u0627\\u0644\\u0623\\u0646\\u062a\\u0631\\u0646\\u062a \\u0648\\u0645\\u0646 \\u0628\\u064a\\u0646 \\u0627\\u0644\\u0623\\u0633\\u0645\\u0627\\u0621 \\u0627\\u0644\\u062a\\u064a \\u0646\\u062c\\u062d\\u062a \\u0641\\u064a \\u0623\\u0646 \\u062a\\u062c\\u0639\\u0644\\u0646\\u064a \\u0623\\u0636\\u062d\\u0643 \\u0627\\u0644\\u0645\\u0634\\u0627\\u0631\\u0643 \\u0645\\u0631\\u0627\\u062f \\u0642\\u0628\\u0627\\u0644\\u064a \\u0648\\u0623\\u0633\\u0645\\u0627\\u0621 \\u0623\\u062e\\u0631\\u0649 \\u0644\\u0645 \\u0623\\u062a\\u0630\\u0643\\u0631\\u0647\\u0627 \\u0648\\u064a\\u0628\\u0642\\u0649 \\u0627\\u0644\\u0636\\u062d\\u0643 \\u0645\\u0648\\u0647\\u0628\\u0629 \\u0644\\u064a\\u0633\\u062a \\u0628\\u0627\\u0644\\u0623\\u0645\\u0631 \\u0627\\u0644\\u0633\\u0647\\u0644 \\u0628\\u064a\\u0646\\u0645\\u0627 \\u0627\\u0644\\u0628\\u0643\\u0627 \\u0646\\u0637\\u064a\\u0631\\u0648 \\u0641\\u064a\\u0647 \\u0648\\u0646\\u0633\\u062a\\u0637\\u064a\\u0639 \\u0623\\u0646 \\u0646\\u0628\\u0643\\u064a \\u0627\\u0644\\u062c\\u0645\\u0647\\u0648\\u0631 \\u0628\\u0633\\u0647\\u0648\\u0644\\u0629 \\u0645\\u0646 \\u062e\\u0644\\u0627\\u0644 \\u0645\\u0648\\u0627\\u0642\\u0641 \\u0645\\u0624\\u062b\\u0631\\u0629 \\u0644\\u0645\\u0627\\u0630\\u0627 \\u0644\\u062c\\u0623\\u062a \\u0625\\u0644\\u0649 \\u062a\\u0642\\u062f\\u064a\\u0645 \\u0648\\u0635\\u0644\\u0627\\u062a \\u0625\\u0634\\u0647\\u0627\\u0631\\u064a\\u0629 \\u0641\\u064a \\u0627\\u0644\\u0648\\u0627\\u0642\\u0639 \\u0627\\u0644\\u0648\\u0635\\u0644\\u0627\\u062a \\u0627\\u0644\\u0625\\u0634\\u0647\\u0627\\u0631\\u064a\\u0629 \\u0633\\u0627\\u0639\\u062f\\u062a\\u0646\\u064a \\u0643\\u062b\\u064a\\u0631\\u0627 \\u0644\\u062a\\u062d\\u0642\\u064a\\u0642 \\u0627\\u0646\\u062a\\u0634\\u0627\\u0631 \\u0623\\u0648\\u0633\\u0639 \\u0643\\u0627\\u0646 \\u0633\\u064a\\u062a\\u0637\\u0644\\u0628 \\u0645\\u0646\\u064a \\u0648\\u0642\\u062a\\u0627 \\u0623\\u0637\\u0648\\u0644 \\u0625\\u0630 \\u0643\\u0627\\u0646 \\u064a\\u0628\\u062b \\u0623\\u0632\\u064a\\u062f \\u0645\\u0646 \\u0633\\u0628\\u0639 \\u0645\\u0631\\u0627\\u062a \\u064a\\u0648\\u0645\\u064a\\u0627 \\u0648\\u0643\\u0646\\u062a \\u0623\\u062f\\u062e\\u0644 \\u0645\\u0646\\u0627\\u0632\\u0644 \\u0627\\u0644\\u062c\\u0645\\u0647\\u0648\\u0631 \\u0635\\u062d\\u0629 \\u201d\\u060c \\u0643\\u0645\\u0627 \\u0623\\u0646 \\u0641\\u0643\\u0631\\u0629 \\u0627\\u0644\\u0643\\u0648\\u0628\\u0644 \\u0645\\u0646\\u0627\\u0643\\u0631\\u064a\\u0646 \\u0644\\u0642\\u064a\\u062a \\u0627\\u0633\\u062a\\u062d\\u0633\\u0627\\u0646\\u0647\\u0645 \\u0623\\u0644\\u0645 \\u062a\\u0641\\u0643\\u0631 \\u0641\\u064a \\u0627\\u0644\\u062a\\u0639\\u0627\\u0648\\u0646 \\u0645\\u0639 \\u062d\\u0646\\u0627\\u0646 \\u0623\\u0645\\u062c\\u062f \\u0645\\u0646 \\u062e\\u0644\\u0627\\u0644 \\u0639\\u0645\\u0644 \\u0641\\u0643\\u0627\\u0647\\u064a \\u0631\\u063a\\u0645 \\u0623\\u0646\\u0646\\u064a \\u0642\\u062f\\u0645\\u062a \\u0648\\u062d\\u0646\\u0627\\u0646 \\u0623\\u0645\\u062c\\u062f \\u0645\\u0646 \\u062e\\u0644\\u0627\\u0644 \\u0648\\u0635\\u0644\\u0627\\u062a \\u0625\\u0634\\u0647\\u0627\\u0631\\u064a\\u0629 \\u062b\\u0646\\u0627\\u0626\\u064a\\u0627 \\u0644\\u0642\\u064a \\u0627\\u0633\\u062a\\u062d\\u0633\\u0627\\u0646 \\u0627\\u0644\\u062c\\u0645\\u0647\\u0648\\u0631 \\u0648\\u0631\\u063a\\u0645 \\u062a\\u0644\\u0642\\u064a \\u0639\\u0631\\u0648\\u0636 \\u0641\\u064a \\u0627\\u0644\\u062a\\u0639\\u0627\\u0648\\u0646 \\u0645\\u0646 \\u062c\\u062f\\u064a\\u062f \\u0641\\u064a \\u0639\\u0645\\u0644 \\u0641\\u0646\\u064a \\u0641\\u0636\\u0644\\u062a \\u0623\\u0646 \\u0644\\u0627 \\u0623\\u0642\\u0648\\u0645 \\u0628\\u0630\\u0644\\u0643 \\u062d\\u062a\\u0649 \\u0644\\u0627 \\u0623\\u0637\\u0644\\u0639 \\u0641\\u064a \\u0627\\u0644\\u0631\\u0627\\u0633 \\u0644\\u0623\\u0646\\u0646\\u064a \\u0628\\u0635\\u0631\\u0627\\u062d\\u0629 \\u0623\\u0641\\u0636\\u0644 \\u062f\\u0627\\u0626\\u0645\\u0627 \\u0623\\u0646 \\u0623\\u062e\\u0648\\u0636 \\u062a\\u062c\\u0627\\u0631\\u0628 \\u062c\\u062f\\u064a\\u062f\\u0629 \\u0648\\u0644\\u0627 \\u0623\\u0643\\u0631\\u0631 \\u0627\\u0644\\u0634\\u062e\\u0635\\u064a\\u0627\\u062a \\u0627\\u0644\\u062a\\u064a \\u0644\\u0642\\u064a\\u062a \\u0646\\u062c\\u0627\\u062d\\u0627 \\u062a\\u0639\\u0631\\u0636\\u062a \\u0635\\u0641\\u062d\\u062a\\u0643 \\u0639\\u0644\\u0649 \\u0641\\u064a\\u0633\\u0628\\u0648\\u0643 \\u0648\\u0628\\u0631\\u064a\\u062f\\u0643 \\u0627\\u0644\\u0625\\u0644\\u0643\\u062a\\u0631\\u0648\\u0646\\u064a \\u0625\\u0644\\u0649 \\u0627\\u0644\\u0642\\u0631\\u0635\\u0646\\u0629 \\u0641\\u0645\\u0646 \\u062a\\u0639\\u062a\\u0642\\u062f \\u0623\\u0646\\u0647 \\u0642\\u0627\\u0645 \\u0628\\u0630\\u0644\\u0643 \\u0625\\u0646\\u0647\\u0627 \\u0627\\u0644\\u0645\\u0631\\u0629 \\u0627\\u0644\\u062b\\u0627\\u0646\\u064a\\u0629 \\u0627\\u0644\\u062a\\u064a \\u0623\\u062a\\u0639\\u0631\\u0636 \\u0641\\u064a\\u0647\\u0627 \\u0625\\u0644\\u0649 \\u0642\\u0631\\u0635\\u0646\\u0629 \\u0635\\u0641\\u062d\\u062a\\u064a \\u0639\\u0644\\u0649 \\u0641\\u064a\\u0633\\u0628\\u0648\\u0643 \\u0648\\u0628\\u0631\\u064a\\u062f\\u064a \\u0627\\u0644\\u0625\\u0644\\u0643\\u062a\\u0631\\u0648\\u0646\\u064a \\u0648\\u0630\\u0644\\u0643 \\u062c\\u0627\\u0621 \\u0645\\u0628\\u0627\\u0634\\u0631\\u0629 \\u0628\\u0639\\u062f \\u0646\\u0634\\u0631\\u064a \\u0635\\u0648\\u0631\\u0627 \\u0644\\u0639\\u0631\\u0636 \\u0628\\u0628\\u0648\\u0631\\u062f\\u0648 \\u0648\\u0623\\u0639\\u062a\\u0642\\u062f \\u0623\\u0646 \\u0630\\u0644\\u0643 \\u0648\\u0631\\u0627\\u0621\\u0647 \\u0623\\u0634\\u062e\\u0627\\u0635 \\u0642\\u0644\\u0648\\u0628\\u0647\\u0645 \\u0645\\u0644\\u064a\\u0626\\u0629 \\u0628\\u0627\\u0644\\u062d\\u0633\\u062f \\u0627\\u0644\\u0633\\u0645 \\u0623\\u062c\\u0631\\u062a \\u0627\\u0644\\u062d\\u0648\\u0627\\u0631 \\u0623\\u0645\\u064a\\u0646\\u0629 \\u0643\\u0646\\u062f\\u064a \\u0641\\u064a \\u0633\\u0637\\u0648\\u0631 \\u0645\\u0646 \\u0645\\u0648\\u0627\\u0644\\u064a\\u062f \\u0627\\u0644\\u0628\\u064a\\u0636\\u0627\\u0621 \\u0634\\u0627\\u0631\\u0643 \\u0641\\u064a \\u0628\\u0631\\u0646\\u0627\\u0645\\u062c \\u0643\\u0648\\u0645\\u064a\\u062f\\u064a\\u0627 \\u0641\\u064a \\u0623\\u0648\\u0644 \\u0639\\u0645\\u0644 \\u0638\\u0647\\u0631 \\u0641\\u064a\\u0647 \\u0647\\u0648 \\u0633\\u0644\\u0633\\u0644\\u0629 \\u0627\\u0644\\u0641\\u0630 \\u062a\\u064a \\u0641\\u064a \\u062e\\u0644\\u0627\\u0644 \\u0645\\u0646 \\u0628\\u064a\\u0646 \\u0627\\u0644\\u0641\\u0643\\u0627\\u0647\\u064a\\u064a\\u0646 \\u0627\\u0644\\u0645\\u0634\\u0627\\u0631\\u0643\\u064a\\u0646 \\u0641\\u064a \\u0639\\u0631\\u0636 \\u0625\\u064a\\u0645\\u0648\\u0631\\u0627\\u062c\\u064a \\u0636\\u0645\\u0646 \\u062e\\u0644\\u064a\\u0629 \\u0643\\u062a\\u0627\\u0628\\u0629 \\u062a\\u062d\\u062a \\u0625\\u0634\\u0631\\u0627\\u0641 \\u0639\\u0628\\u062f \\u0627\\u0644\\u0639\\u0627\\u0644\\u064a \\u0644\\u0645\\u0647\\u0631 \\u0627\\u0644\\u0645\\u0639\\u0631\\u0648\\u0641 \\u0637\\u0627\\u0644\\u064a\\u0633\",\n          \"\\u0634\\u0631\\u064a\\u0637 \\u062c\\u062f\\u064a\\u062f \\u064a\\u062c\\u0645\\u0639 \\u062e\\u0648\\u064a\\u064a \\u0628\\u0648\\u0634\\u0627\\u064a \\u062f\\u0627\\u064a\\u0633\\u064a \\u064a\\u0635\\u0648\\u0631 \\u0628\\u0646\\u064a\\u0648\\u064a\\u0648\\u0631\\u0643 \\u062f\\u062e\\u0644 \\u0627\\u0644\\u0633\\u064a\\u0646\\u0627\\u0631\\u064a\\u0633\\u062a \\u0627\\u0644\\u0643\\u0627\\u062a\\u0628 \\u0645\\u062d\\u0645\\u062f \\u0627\\u0644\\u064a\\u0648\\u0633\\u0641\\u064a \\u0623\\u062e\\u064a\\u0631\\u0627 \\u0641\\u064a \\u062a\\u062c\\u0631\\u0628\\u0629 \\u062c\\u062f\\u064a\\u062f\\u0629 \\u0645\\u0639 \\u0627\\u0644\\u0642\\u0646\\u0627\\u0629 \\u0627\\u0644\\u062b\\u0627\\u0646\\u064a\\u0629 \\u0645\\u0646 \\u062e\\u0644\\u0627\\u0644 \\u0627\\u0644\\u0634\\u0631\\u064a\\u0637 \\u0627\\u0644\\u062a\\u0644\\u0641\\u0632\\u064a\\u0648\\u0646\\u064a \\u0627\\u0644\\u062c\\u062f\\u064a\\u062f \\u0625\\u0634\\u0627\\u0639\\u0629 \\u0627\\u0644\\u0630\\u064a \\u0627\\u0646\\u0637\\u0644\\u0642 \\u062a\\u0635\\u0648\\u064a\\u0631\\u0647 \\u0623\\u0648\\u0644 \\u0623\\u0645\\u0633 \\u0627\\u0644\\u0627\\u062b\\u0646\\u064a\\u0646 \\u0628\\u0627\\u0644\\u0635\\u0648\\u064a\\u0631\\u0629 \\u0627\\u0644\\u0634\\u0631\\u064a\\u0637 \\u0627\\u0644\\u062c\\u062f\\u064a\\u062f \\u0627\\u0644\\u0630\\u064a \\u0643\\u062a\\u0628\\u0647 \\u0627\\u0644\\u064a\\u0648\\u0633\\u0641\\u064a \\u0648\\u062d\\u0645\\u0644 \\u062a\\u0648\\u0642\\u064a\\u0639 \\u0627\\u0644\\u0645\\u062e\\u0631\\u062c \\u0645\\u0635\\u0637\\u0641\\u0649 \\u0645\\u0636\\u0645\\u0648\\u0646 \\u0633\\u064a\\u0639\\u0631\\u0641 \\u0645\\u0634\\u0627\\u0631\\u0643\\u0629 \\u0645\\u062c\\u0645\\u0648\\u0639\\u0629 \\u0645\\u0646 \\u0627\\u0644\\u0623\\u0633\\u0645\\u0627\\u0621 \\u0627\\u0644\\u0641\\u0646\\u064a\\u0629 \\u0627\\u0644\\u0645\\u0639\\u0631\\u0648\\u0641\\u0629 \\u0645\\u062b\\u0644 \\u0641\\u0627\\u0637\\u0645\\u0629 \\u0648\\u0634\\u0627\\u064a \\u0648\\u0646\\u062c\\u0627\\u0629 \\u062e\\u064a\\u0631 \\u0627\\u0644\\u0644\\u0647 \\u0648\\u0645\\u062d\\u0645\\u062f \\u062e\\u0648\\u064a\\u064a \\u0648\\u0628\\u0646\\u0639\\u064a\\u0633\\u0649 \\u0627\\u0644\\u062c\\u064a\\u0631\\u0627\\u0631\\u064a \\u0648\\u0633\\u0639\\u064a\\u062f \\u0622\\u064a\\u062a \\u0628\\u0627\\u062c\\u0627 \\u0648\\u0622\\u062e\\u0631\\u064a\\u0646 \\u0648\\u064a\\u062d\\u0643\\u064a \\u0627\\u0644\\u0641\\u064a\\u0644\\u0645 \\u0642\\u0635\\u0629 \\u0634\\u062e\\u0635 \\u064a\\u062f\\u0639\\u0649 \\u062f\\u0627\\u0645\\u0648 \\u0627\\u0644\\u0630\\u064a \\u0639\\u0627\\u0634 \\u0631\\u0641\\u0642\\u0629 \\u0648\\u0627\\u0644\\u062f\\u062a\\u0647 \\u0645\\u062d\\u062a\\u0642\\u0631\\u064a\\u0646 \\u0641\\u064a \\u0627\\u0644\\u062d\\u064a \\u0644\\u0627 \\u0642\\u064a\\u0645\\u0629 \\u0644\\u0647\\u0645\\u0627 \\u0644\\u0643\\u0646 \\u0641\\u064a \\u0623\\u062d\\u062f \\u0627\\u0644\\u0623\\u064a\\u0627\\u0645 \\u0633\\u0631\\u062a \\u0625\\u0634\\u0627\\u0639\\u0629 \\u062a\\u0642\\u0648\\u0644 \\u0625\\u0646 \\u062f\\u0627\\u0645\\u0648 \\u0631\\u0628\\u062d \\u0645\\u0644\\u064a\\u0627\\u0631 \\u0633\\u0646\\u062a\\u064a\\u0645 \\u0641\\u064a \\u0623\\u062d\\u062f \\u0623\\u0644\\u0639\\u0627\\u0628 \\u0627\\u0644\\u0631\\u0647\\u0627\\u0646 \\u0641\\u062a\\u062d\\u0648\\u0644 \\u062a\\u0639\\u0627\\u0645\\u0644 \\u0633\\u0643\\u0627\\u0646 \\u0627\\u0644\\u062d\\u064a \\u0625\\u0644\\u0649 \\u0627\\u0644\\u0646\\u0642\\u064a\\u0636 \\u0625\\u0630 \\u0628\\u062f\\u0623 \\u0627\\u0644\\u062c\\u0645\\u064a\\u0639 \\u064a\\u062a\\u0645\\u0644\\u0642 \\u0644\\u0647\\u0645\\u0627 \\u0648\\u0647\\u0648 \\u0627\\u0644\\u0623\\u0645\\u0631 \\u0627\\u0644\\u0630\\u064a \\u0627\\u0633\\u062a\\u063a\\u0644\\u062a\\u0647 \\u0648\\u0627\\u0644\\u062f\\u0629 \\u062f\\u0627\\u0645\\u0648 \\u0627\\u0644\\u062a\\u064a \\u0644\\u0645 \\u062a\\u0643\\u0630\\u0628 \\u0627\\u0644\\u0625\\u0634\\u0627\\u0639\\u0629 \\u0628\\u0644 \\u0633\\u0627\\u064a\\u0631\\u062a\\u0647\\u0627 \\u0641\\u064a \\u0627\\u062a\\u062c\\u0627\\u0647 \\u062a\\u0631\\u0643\\u064a\\u0632 \\u0627\\u0644\\u0627\\u062d\\u062a\\u0631\\u0627\\u0645 \\u0627\\u0644\\u0648\\u0627\\u062c\\u0628 \\u0644\\u0647\\u0645\\u0627 \\u0641\\u064a \\u0627\\u0644\\u062d\\u064a \\u0648\\u0647\\u0648 \\u0645\\u0627 \\u0633\\u062a\\u062a\\u0631\\u062a\\u0628 \\u0639\\u0646\\u0647 \\u0645\\u0648\\u0627\\u0642\\u0641 \\u0643\\u0648\\u0645\\u064a\\u062f\\u064a\\u0629 \\u0633\\u062a\\u0639\\u0632\\u0632 \\u0639\\u0646\\u0635\\u0631 \\u0627\\u0644\\u062a\\u0634\\u0648\\u064a\\u0642 \\u0641\\u064a \\u0642\\u0635\\u0629 \\u0648\\u0623\\u062d\\u062f\\u0627\\u062b \\u0627\\u0644\\u0641\\u064a\\u0644\\u0645 \\u0648\\u064a\\u0639\\u062f \\u0634\\u0631\\u064a\\u0637 \\u0625\\u0634\\u0627\\u0639\\u0629 \\u0633\\u0627\\u062f\\u0633 \\u062a\\u062c\\u0631\\u0628\\u0629 \\u0644\\u0644\\u0633\\u064a\\u0646\\u0627\\u0631\\u064a\\u0633\\u062a \\u0645\\u062d\\u0645\\u062f \\u0627\\u0644\\u064a\\u0648\\u0633\\u0641\\u064a \\u0645\\u0639 \\u0627\\u0644\\u0642\\u0646\\u0627\\u0629 \\u0627\\u0644\\u062b\\u0627\\u0646\\u064a\\u0629 \\u0625\\u0630 \\u0633\\u0628\\u0642 \\u0623\\u0646 \\u0643\\u062a\\u0628 \\u0627\\u0644\\u0639\\u062f\\u064a\\u062f \\u0645\\u0646 \\u0627\\u0644\\u0623\\u0639\\u0645\\u0627\\u0644 \\u0627\\u0644\\u062a\\u0644\\u0641\\u0632\\u064a\\u0648\\u0646\\u064a\\u0629 \\u0627\\u0644\\u0646\\u0627\\u062c\\u062d\\u0629 \\u0645\\u0646\\u0647\\u0627 \\u062e\\u064a\\u0627\\u0644 \\u0627\\u0644\\u0630\\u064a\\u0628 \\u0644\\u0644\\u0645\\u062e\\u0631\\u062c \\u0645\\u062d\\u0645\\u062f \\u0639\\u0647\\u062f \\u0628\\u0646\\u0633\\u0648\\u062f\\u0629 \\u0627\\u0644\\u0635\\u0627\\u0644\\u062d\\u0629 \\u0645\\u0639 \\u0643\\u0645\\u0627\\u0644 \\u0643\\u0645\\u0627\\u0644 \\u062b\\u0645 \\u0628\\u0646\\u0627\\u062a \\u0631\\u062d\\u0645\\u0629 \\u0644\\u0644\\u0645\\u062e\\u0631\\u062c\\u0629 \\u0641\\u0631\\u064a\\u062f\\u0629 \\u0628\\u0648\\u0631\\u0642\\u064a\\u0629 \\u0625\\u0636\\u0627\\u0641\\u0629 \\u0625\\u0644\\u0649 \\u0634\\u0631\\u064a\\u0637 \\u0644\\u0637\\u064a\\u0641\\u0629 \\u0628\\u0639\\u062f \\u0627\\u0644\\u0648\\u0638\\u064a\\u0641\\u0629 \\u0644\\u0645\\u062d\\u0645\\u062f \\u0627\\u0644\\u0643\\u063a\\u0627\\u0637 \\u0623\\u0644\\u0648\\u0627\\u0646 \\u0641\\u064a \\u0627\\u0644\\u0645\\u0646\\u0641\\u0649 \\u0645\\u0639 \\u0627\\u0644\\u0645\\u062e\\u0631\\u062c \\u0645\\u0635\\u0637\\u0641\\u0649 \\u0645\\u0636\\u0645\\u0648\\u0646 \\u0648\\u0639\\u0646 \\u0633\\u0631 \\u0627\\u0646\\u0643\\u0628\\u0627\\u0628\\u0647 \\u0639\\u0644\\u0649 \\u0627\\u0644\\u0627\\u0634\\u062a\\u063a\\u0627\\u0644 \\u0639\\u0644\\u0649 \\u0627\\u0644\\u0623\\u0639\\u0645\\u0627\\u0644 \\u0627\\u0644\\u062a\\u0644\\u0641\\u0632\\u064a\\u0648\\u0646\\u064a\\u0629 \\u0623\\u0643\\u062b\\u0631 \\u0623\\u0648\\u0636\\u062d \\u0627\\u0644\\u064a\\u0648\\u0633\\u0641\\u064a \\u0623\\u0646\\u0647\\u0627 \\u0627\\u0644\\u0623\\u0643\\u062b\\u0631 \\u0645\\u0634\\u0627\\u0647\\u062f\\u0629 \\u0645\\u0642\\u0627\\u0631\\u0646\\u0629 \\u0645\\u0639 \\u0627\\u0644\\u0623\\u0639\\u0645\\u0627\\u0644 \\u0627\\u0644\\u0633\\u064a\\u0646\\u0645\\u0627\\u0626\\u064a\\u0629 \\u0627\\u0644\\u062a\\u064a \\u064a\\u062d\\u062a\\u0643\\u0631 \\u0641\\u064a\\u0647\\u0627 \\u0627\\u0644\\u0645\\u062e\\u0631\\u062c\\u0648\\u0646 \\u0643\\u062a\\u0627\\u0628\\u0629 \\u0627\\u0644\\u0642\\u0635\\u0629 \\u0648\\u0627\\u0644\\u0633\\u064a\\u0646\\u0627\\u0631\\u064a\\u0648 \\u0637\\u0644\\u0628\\u0627 \\u0644\\u0644\\u0631\\u0628\\u062d \\u0627\\u0644\\u0645\\u0627\\u062f\\u064a \\u0641\\u064a \\u0627\\u0644\\u063a\\u0627\\u0644\\u0628 \\u0645\\u0627 \\u064a\\u062c\\u0639\\u0644 \\u0628\\u0639\\u0636\\u0647\\u0627 \\u062f\\u0648\\u0646 \\u0627\\u0644\\u0645\\u0633\\u062a\\u0648\\u0649 \\u064a\\u0642\\u0648\\u0644 \\u0627\\u0644\\u0633\\u064a\\u0646\\u0627\\u0631\\u064a\\u0633\\u062a \\u0627\\u0644\\u0645\\u063a\\u0631\\u0628\\u064a \\u0627\\u0644\\u0630\\u064a \\u0623\\u0643\\u062f \\u0623\\u0646\\u0647 \\u0643\\u062a\\u0628 \\u0633\\u064a\\u0646\\u0627\\u0631\\u064a\\u0648\\u0647\\u0627\\u062a \\u0644\\u0623\\u0639\\u0645\\u0627\\u0644 \\u0633\\u064a\\u0646\\u0645\\u0627\\u0626\\u064a\\u0629 \\u0645\\u0646\\u0647\\u0627 \\u0634\\u0631\\u064a\\u0637\\u0627 \\u0642\\u0641\\u0637\\u0627\\u0646 \\u0627\\u0644\\u0634\\u064a\\u0637\\u0627\\u0646 \\u0634\\u0631\\u0642 \\u063a\\u0631\\u0628 \\u0628\\u0648\\u0627\\u0646 \\u0643\\u0648\\u0645 \\u0648\\u0641\\u064a \\u0627\\u0644\\u0633\\u064a\\u0627\\u0642 \\u0646\\u0641\\u0633\\u0647 \\u0643\\u0634\\u0641 \\u0627\\u0644\\u064a\\u0648\\u0633\\u0641\\u064a \\u0639\\u0646 \\u0645\\u0634\\u0631\\u0648\\u0639 \\u0634\\u0631\\u064a\\u0637 \\u0633\\u064a\\u0646\\u0645\\u0627\\u0626\\u064a \\u0642\\u0635\\u064a\\u0631 \\u0645\\u0646 \\u062a\\u0623\\u0644\\u064a\\u0641\\u0647 \\u062a\\u0645 \\u062a\\u0635\\u0648\\u064a\\u0631\\u0647 \\u0623\\u062e\\u064a\\u0631\\u0627 \\u0628\\u0627\\u0644\\u0648\\u0644\\u0627\\u064a\\u0627\\u062a \\u0627\\u0644\\u0645\\u062a\\u062d\\u062f\\u0629 \\u0627\\u0644\\u0623\\u0645\\u0631\\u064a\\u0643\\u064a\\u0629 \\u062a\\u062d\\u062a \\u0625\\u0634\\u0631\\u0627\\u0641 \\u0627\\u0644\\u0645\\u062e\\u0631\\u062c \\u0627\\u0644\\u0645\\u063a\\u0631\\u0628\\u064a \\u0645\\u062d\\u0645\\u062f \\u0643\\u0627\\u0631\\u0629 \\u0628\\u0639\\u0646\\u0648\\u0627\\u0646 \\u062f\\u0627\\u064a\\u0633\\u064a \\u0648\\u064a\\u062a\\u0637\\u0631\\u0642 \\u0634\\u0631\\u064a\\u0637 \\u062f\\u0627\\u064a\\u0633\\u064a \\u0625\\u0644\\u0649 \\u0642\\u0635\\u0629 \\u0641\\u062a\\u0627\\u0629 \\u062a\\u0639\\u0627\\u0646\\u064a \\u0645\\u0631\\u0636 \\u0623\\u0637\\u0641\\u0627\\u0644 \\u0627\\u0644\\u0642\\u0645\\u0631 \\u0648\\u0647\\u0648 \\u0645\\u0631\\u0636 \\u0648\\u0631\\u0627\\u062b\\u064a \\u064a\\u0639\\u0627\\u0646\\u064a \\u0627\\u0644\\u0645\\u0635\\u0627\\u0628 \\u0628\\u0647 \\u0645\\u0646 \\u062d\\u0633\\u0627\\u0633\\u064a\\u0629 \\u0645\\u0641\\u0631\\u0637\\u0629 \\u062a\\u062c\\u0627\\u0647 \\u0627\\u0644\\u0623\\u0634\\u0639\\u0629 \\u0645\\u0627 \\u0641\\u0648\\u0642 \\u0627\\u0644\\u0628\\u0646\\u0641\\u0633\\u062c\\u064a\\u0629 \\u0627\\u0644\\u0642\\u0627\\u062f\\u0645\\u0629 \\u0645\\u0646 \\u0627\\u0644\\u0634\\u0645\\u0633 \\u0623\\u0648 \\u0645\\u0646 \\u0623\\u0646\\u0648\\u0627\\u0639 \\u0645\\u0639\\u064a\\u0646\\u0629 \\u0645\\u0646 \\u0627\\u0644\\u0641\\u0648\\u0627\\u0646\\u064a\\u0633 \\u0648\\u0627\\u0644\\u0623\\u0636\\u0648\\u0627\\u0621 \\u0627\\u0644\\u0635\\u0627\\u062f\\u0631\\u0629 \\u0639\\u0646\\u0647\\u0627 \\u0625\\u0630 \\u0635\\u0648\\u0631\\u062a \\u0645\\u0634\\u0627\\u0647\\u062f\\u0647 \\u0628\\u0646\\u064a\\u0648\\u064a\\u0648\\u0631\\u0643 \\u0648\\u064a\\u062d\\u0643\\u064a \\u0627\\u0644\\u064a\\u0648\\u0633\\u0641\\u064a \\u0623\\u0646\\u0647 \\u0644\\u0625\\u064a\\u0635\\u0627\\u0644 \\u0645\\u0639\\u0627\\u0646\\u0627\\u0629 \\u0647\\u0630\\u0647 \\u0627\\u0644\\u0641\\u0626\\u0629 \\u0645\\u0646 \\u0627\\u0644\\u0645\\u0631\\u0636\\u0649 \\u0639\\u0628\\u0631 \\u0634\\u062e\\u0635\\u064a\\u0629 \\u062f\\u0627\\u064a\\u0633\\u064a \\u0648\\u0647\\u064a \\u0641\\u062a\\u0627\\u0629 \\u062a\\u0639\\u064a\\u0634 \\u0645\\u0639 \\u0645\\u0631\\u0636\\u0647\\u0627 \\u062d\\u0628\\u064a\\u0633\\u0629 \\u063a\\u0631\\u0641\\u062a\\u0647\\u0627 \\u0627\\u0644\\u062a\\u064a \\u062a\\u0628\\u0627\\u0631\\u062d\\u0647\\u0627 \\u0627\\u0636\\u0637\\u0631 \\u0625\\u0644\\u0649 \\u0643\\u062a\\u0627\\u0628\\u0629 \\u0627\\u0644\\u0642\\u0635\\u0629 \\u0648\\u0627\\u0644\\u0633\\u064a\\u0646\\u0627\\u0631\\u064a\\u0648 \\u0623\\u064a\\u0636\\u0627 \\u0645\\u0646 \\u062e\\u0644\\u0627\\u0644 \\u062d\\u0628\\u0633 \\u0646\\u0641\\u0633\\u0647 \\u0641\\u064a \\u063a\\u0631\\u0641\\u0629 \\u0644\\u0623\\u064a\\u0627\\u0645 \\u0644\\u064a\\u0642\\u062a\\u0631\\u0628 \\u0623\\u0643\\u062b\\u0631 \\u0645\\u0646 \\u0645\\u0639\\u0627\\u0646\\u0627\\u0629 \\u0627\\u0644\\u0634\\u062e\\u0635\\u064a\\u0629 \\u0627\\u0644\\u062a\\u064a \\u064a\\u0646\\u0633\\u062d\\u0628 \\u0648\\u0636\\u0639\\u0647\\u0627 \\u0639\\u0644\\u0649 \\u0627\\u0644\\u0643\\u062b\\u064a\\u0631\\u064a\\u0646 \\u0645\\u062b\\u0644\\u0647\\u0627 \\u0648\\u064a\\u0631\\u0633\\u0645 \\u0645\\u0644\\u0627\\u0645\\u062d\\u0647\\u0627 \\u0648\\u0647\\u064a \\u062a\\u062d\\u0627\\u0648\\u0631 \\u0636\\u0648\\u0621 \\u0627\\u0644\\u0646\\u0647\\u0627\\u0631 \\u0627\\u0644\\u0630\\u064a \\u064a\\u062d\\u0628\\u0633\\u0647\\u0627 \\u0648\\u062a\\u0639\\u0627\\u062a\\u0628 \\u0627\\u0644\\u0637\\u0628\\u064a\\u0639\\u0629 \\u0648\\u062a\\u0636\\u0639 \\u0644\\u0646\\u0641\\u0633\\u0647\\u0627 \\u0623\\u0642\\u0646\\u0639\\u0629 \\u062a\\u0644\\u0628\\u0633\\u0647\\u0627 \\u0648\\u062a\\u0646\\u0638\\u0631 \\u0625\\u0644\\u0649 \\u0646\\u0641\\u0633\\u0647\\u0627 \\u0641\\u064a \\u0627\\u0644\\u0645\\u0631\\u0622\\u0629 \\u0648\\u062a\\u062e\\u0644\\u0642 \\u0634\\u062e\\u0648\\u0635\\u0627 \\u0648\\u0647\\u0645\\u064a\\u0629 \\u062a\\u062a\\u0639\\u0627\\u064a\\u0634 \\u0645\\u0639\\u0647\\u0627 \\u062f\\u0627\\u062e\\u0644 \\u0645\\u062d\\u0628\\u0633\\u0647\\u0627 \\u0639\\u0632\\u064a\\u0632 \\u0627\\u0644\\u0645\\u062c\\u062f\\u0648\\u0628\"\n        ],\n        \"semantic_type\": \"\",\n        \"description\": \"\"\n      }\n    },\n    {\n      \"column\": \"targe\",\n      \"properties\": {\n        \"dtype\": \"number\",\n        \"std\": 0.0,\n        \"min\": 0.0,\n        \"max\": 0.0,\n        \"num_unique_values\": 1,\n        \"samples\": [\n          0.0\n        ],\n        \"semantic_type\": \"\",\n        \"description\": \"\"\n      }\n    }\n  ]\n}"
            }
          },
          "metadata": {},
          "execution_count": 8
        }
      ]
    },
    {
      "cell_type": "code",
      "source": [
        "# Function to clean and normalize Arabic text\n",
        "def clean_text(text):\n",
        "    # Remove unnecessary characters (e.g., punctuation, numbers)\n",
        "    text = ''.join([char for char in text if char.isalpha() or char.isspace()])\n",
        "    # Normalize Arabic text (e.g., remove diacritics, normalize letters)\n",
        "    text = text.replace(\"أ\", \"ا\").replace(\"إ\", \"ا\").replace(\"آ\", \"ا\")\n",
        "    text = text.replace(\"ى\", \"ي\").replace(\"ة\", \"ه\")\n",
        "    return text"
      ],
      "metadata": {
        "id": "-nhcT-twE4HL"
      },
      "execution_count": null,
      "outputs": []
    },
    {
      "cell_type": "code",
      "source": [
        "df['text'] = df['text'].apply(clean_text)"
      ],
      "metadata": {
        "id": "lse4ByW5E4JU"
      },
      "execution_count": null,
      "outputs": []
    },
    {
      "cell_type": "code",
      "source": [
        "train_texts, val_texts = train_test_split(df['text'], test_size=0.2, random_state=42)"
      ],
      "metadata": {
        "id": "j2f9SAJ1kRfD"
      },
      "execution_count": null,
      "outputs": []
    },
    {
      "cell_type": "code",
      "source": [
        "print(f\"Number of training samples: {len(train_texts)}\")\n",
        "print(f\"Number of validation samples: {len(val_texts)}\")"
      ],
      "metadata": {
        "colab": {
          "base_uri": "https://localhost:8080/"
        },
        "id": "4oCNBnTwkRj9",
        "outputId": "70f2504f-7e44-4ad3-cc6a-1281fbad56c7"
      },
      "execution_count": null,
      "outputs": [
        {
          "output_type": "stream",
          "name": "stdout",
          "text": [
            "Number of training samples: 1373\n",
            "Number of validation samples: 344\n"
          ]
        }
      ]
    },
    {
      "cell_type": "code",
      "source": [
        "from transformers import AutoTokenizer"
      ],
      "metadata": {
        "id": "HCbtFewHkRnP"
      },
      "execution_count": null,
      "outputs": []
    },
    {
      "cell_type": "code",
      "source": [
        "tokenizer = AutoTokenizer.from_pretrained(\"asafaya/bert-base-arabic\")"
      ],
      "metadata": {
        "colab": {
          "base_uri": "https://localhost:8080/",
          "height": 274,
          "referenced_widgets": [
            "ec9ea8f01edc4a90964df4ff50c5afb9",
            "0c2a83e08d73471188654c0c30f0cb61",
            "19023b3542f4454db3be3ff51488c792",
            "f1f9fbb525234191bfc3e6943546d2e1",
            "8d15f9a8566741dab5aa251b69b4bb53",
            "0a344c8c75b7421e8564cc2b910b7754",
            "c055a3f40f044325b69abbbc0cbec864",
            "c55df0ee24f4463fa03ae4865d805b39",
            "1c4220cb2757458f9d110432a7f718e5",
            "8fc4262c6efa42a6abca252339fd9d5e",
            "6c7f3734fbb34bf4a8455d21a613c5f7",
            "6e65a3dad2024c7682f34a565c0d235d",
            "f23c6f3c20a842c98216e6b36976b946",
            "c05a7c04a6a4426d938bba0f0eb3de5a",
            "d542793c9cc34fc384d80fe1941fb480",
            "dc4e11f25d88481dbf9d8381bc150cb6",
            "7fc32c55354c4afc98e44c637ec83c78",
            "f58e634b9a774c409949dca23f8077ea",
            "e6a9c1f33f904c6cb6dec630e81f6483",
            "b0a7c9f955c04ca7901402c3a1d2069e",
            "8914223682ed4114b4e45fd8bc6b3164",
            "29f9b7fe4b4a416c87d837ad2ebd21cd",
            "f76c283a72d441809eb25e2ced13a286",
            "11fe1c0db17b4c7f81ece0a648cca418",
            "eff14b79698844d8aa69a29dafcae71c",
            "c243a8c8cdcf4a4d958507cb09604195",
            "892444be959649a9bf65340698c44b25",
            "4dcd4a74796a4ef6ac5083585bc5cff6",
            "4a20843713e04973a41bf5cfceab35a8",
            "9f1f1101857744138b16c7e7d4a02cbb",
            "0fc99228811b4d32a01cad0ff7c580e1",
            "0e853f89bf814e458751c28b02e9348c",
            "d2f82f5f1da44e01a54daf16d15f7e3e",
            "289b1d4804e3480daa63ee86b7014420",
            "99ca542176284c86a4a986c351a68e7c",
            "09caf4dd59594475a3dc2766522de7e5",
            "3b19ad5aedce41f2b861f33290aac810",
            "95d7a836987d40848fe3590feaba5291",
            "419ab1558d3f4279b77591ec2df1bac5",
            "6369d509b3494dcdaa965ba1378f984b",
            "d518501a88d94d7cbef9e2f0201c0a2a",
            "e223fe24383c435e87e5d144ea993639",
            "b130c23f39f44d55ae4fa9bf68b811ce",
            "10bf27f33af548678e6f5572a59d258e"
          ]
        },
        "id": "Te5OnQJjkeld",
        "outputId": "d270e374-e068-4d1a-ff9c-d0e4e71f25fd"
      },
      "execution_count": null,
      "outputs": [
        {
          "output_type": "stream",
          "name": "stderr",
          "text": [
            "/usr/local/lib/python3.11/dist-packages/huggingface_hub/utils/_auth.py:94: UserWarning: \n",
            "The secret `HF_TOKEN` does not exist in your Colab secrets.\n",
            "To authenticate with the Hugging Face Hub, create a token in your settings tab (https://huggingface.co/settings/tokens), set it as secret in your Google Colab and restart your session.\n",
            "You will be able to reuse this secret in all of your notebooks.\n",
            "Please note that authentication is recommended but still optional to access public models or datasets.\n",
            "  warnings.warn(\n"
          ]
        },
        {
          "output_type": "display_data",
          "data": {
            "text/plain": [
              "tokenizer_config.json:   0%|          | 0.00/62.0 [00:00<?, ?B/s]"
            ],
            "application/vnd.jupyter.widget-view+json": {
              "version_major": 2,
              "version_minor": 0,
              "model_id": "ec9ea8f01edc4a90964df4ff50c5afb9"
            }
          },
          "metadata": {}
        },
        {
          "output_type": "display_data",
          "data": {
            "text/plain": [
              "config.json:   0%|          | 0.00/491 [00:00<?, ?B/s]"
            ],
            "application/vnd.jupyter.widget-view+json": {
              "version_major": 2,
              "version_minor": 0,
              "model_id": "6e65a3dad2024c7682f34a565c0d235d"
            }
          },
          "metadata": {}
        },
        {
          "output_type": "display_data",
          "data": {
            "text/plain": [
              "vocab.txt:   0%|          | 0.00/334k [00:00<?, ?B/s]"
            ],
            "application/vnd.jupyter.widget-view+json": {
              "version_major": 2,
              "version_minor": 0,
              "model_id": "f76c283a72d441809eb25e2ced13a286"
            }
          },
          "metadata": {}
        },
        {
          "output_type": "display_data",
          "data": {
            "text/plain": [
              "special_tokens_map.json:   0%|          | 0.00/112 [00:00<?, ?B/s]"
            ],
            "application/vnd.jupyter.widget-view+json": {
              "version_major": 2,
              "version_minor": 0,
              "model_id": "289b1d4804e3480daa63ee86b7014420"
            }
          },
          "metadata": {}
        }
      ]
    },
    {
      "cell_type": "code",
      "source": [
        "# Tokenize and encode the training and validation texts\n",
        "def tokenize_and_encode(texts, tokenizer, max_length=128):\n",
        "    \"\"\"\n",
        "    Tokenizes and encodes a list of texts into numerical representations.\n",
        "    Args:\n",
        "        texts (list): List of Arabic text strings.\n",
        "        tokenizer: Tokenizer object for Arabic text.\n",
        "        max_length (int): Maximum sequence length for padding/truncation.\n",
        "    Returns:\n",
        "        torch.Tensor: Encoded token IDs.\n",
        "    \"\"\"\n",
        "    encoded = tokenizer(\n",
        "        list(texts),\n",
        "        padding=\"max_length\",\n",
        "        truncation=True,\n",
        "        max_length=max_length,\n",
        "        return_tensors=\"pt\"\n",
        "    )\n",
        "    return encoded[\"input_ids\"]\n"
      ],
      "metadata": {
        "id": "JdYgtjeOkeny"
      },
      "execution_count": null,
      "outputs": []
    },
    {
      "cell_type": "code",
      "source": [
        "# Tokenize and encode the training and validation sets\n",
        "train_encodings = tokenize_and_encode(train_texts, tokenizer)\n",
        "val_encodings = tokenize_and_encode(val_texts, tokenizer)"
      ],
      "metadata": {
        "id": "hUZzuEGEkeqL"
      },
      "execution_count": null,
      "outputs": []
    },
    {
      "cell_type": "code",
      "source": [
        "# Display the shape of the encoded data\n",
        "print(f\"Training encodings shape: {train_encodings.shape}\")\n",
        "print(f\"Validation encodings shape: {val_encodings.shape}\")"
      ],
      "metadata": {
        "colab": {
          "base_uri": "https://localhost:8080/"
        },
        "id": "6UARiHTXkesd",
        "outputId": "7157d4f0-3ee7-4968-b5ad-9ad9284a0c33"
      },
      "execution_count": null,
      "outputs": [
        {
          "output_type": "stream",
          "name": "stdout",
          "text": [
            "Training encodings shape: torch.Size([1373, 128])\n",
            "Validation encodings shape: torch.Size([344, 128])\n"
          ]
        }
      ]
    },
    {
      "cell_type": "code",
      "source": [
        "# Create PyTorch Dataset class\n",
        "class ArabicTextDataset(torch.utils.data.Dataset):\n",
        "    def __init__(self, encodings):\n",
        "        self.encodings = encodings\n",
        "\n",
        "    def __len__(self):\n",
        "        return self.encodings.size(0)\n",
        "\n",
        "    def __getitem__(self, idx):\n",
        "        return self.encodings[idx]\n",
        "\n",
        "# Create Dataset objects for training and validation sets\n",
        "train_dataset = ArabicTextDataset(train_encodings)\n",
        "val_dataset = ArabicTextDataset(val_encodings)\n",
        "\n",
        "# Create DataLoader objects for batching and shuffling\n",
        "train_loader = torch.utils.data.DataLoader(train_dataset, batch_size=32, shuffle=True)\n",
        "val_loader = torch.utils.data.DataLoader(val_dataset, batch_size=32, shuffle=False)\n",
        "\n",
        "# Display the number of batches in each DataLoader\n",
        "print(f\"Number of training batches: {len(train_loader)}\")\n",
        "print(f\"Number of validation batches: {len(val_loader)}\")"
      ],
      "metadata": {
        "colab": {
          "base_uri": "https://localhost:8080/"
        },
        "id": "bz_3GHADkeuf",
        "outputId": "95c06bd0-1c10-40c4-aaad-ee0ad70009f1"
      },
      "execution_count": null,
      "outputs": [
        {
          "output_type": "stream",
          "name": "stdout",
          "text": [
            "Number of training batches: 43\n",
            "Number of validation batches: 11\n"
          ]
        }
      ]
    },
    {
      "cell_type": "code",
      "source": [
        "class BiLSTMAutocomplete(nn.Module):\n",
        "    def __init__(self, vocab_size, embedding_dim, hidden_dim, output_dim, num_layers=1, dropout=0.5, pad_token_id=0):\n",
        "        super(BiLSTMAutocomplete, self).__init__()\n",
        "        self.pad_token_id = pad_token_id\n",
        "        # Embedding layer - ignore padding index\n",
        "        self.embedding = nn.Embedding(vocab_size, embedding_dim, padding_idx=pad_token_id)\n",
        "        # Bidirectional LSTM layer\n",
        "        self.lstm = nn.LSTM(\n",
        "            input_size=embedding_dim,\n",
        "            hidden_size=hidden_dim,\n",
        "            num_layers=num_layers,\n",
        "            bidirectional=True,\n",
        "            batch_first=True, # Input shape: (batch, seq_len, features)\n",
        "            dropout=dropout if num_layers > 1 else 0 # Apply dropout between LSTM layers if num_layers > 1\n",
        "        )\n",
        "        # Dropout layer after LSTM (applied to LSTM output)\n",
        "        self.dropout = nn.Dropout(dropout)\n",
        "        # Fully connected output layer: maps concatenated hidden states to vocabulary size\n",
        "        # Input to fc is (batch, seq_len, hidden_dim * 2) -> Output (batch, seq_len, output_dim)\n",
        "        self.fc = nn.Linear(hidden_dim * 2, output_dim)  # *2 for bidirectional\n",
        "\n",
        "    def forward(self, input_ids, attention_mask=None):\n",
        "        # x shape: (batch_size, seq_len)\n",
        "        embedded = self.embedding(input_ids) # shape: (batch_size, seq_len, embedding_dim)\n",
        "        lstm_out, (hidden, cell) = self.lstm(embedded)\n",
        "        lstm_out_dropout = self.dropout(lstm_out)\n",
        "        output_logits = self.fc(lstm_out_dropout)\n",
        "\n",
        "        return output_logits\n",
        "    def generate(self,\n",
        "                 input_ids: torch.LongTensor,\n",
        "                 attention_mask: torch.LongTensor = None,\n",
        "                 max_new_tokens: int = 20,\n",
        "                 eos_token_id: int = None):\n",
        "        self.eval()\n",
        "        generated = input_ids\n",
        "        for _ in range(max_new_tokens):\n",
        "            logits = self(generated)                              # (1, seq_len, vocab)\n",
        "            next_id = logits[:, -1, :].argmax(dim=-1, keepdim=True)\n",
        "            generated = torch.cat([generated, next_id], dim=1)\n",
        "            if eos_token_id is not None and next_id.item() == eos_token_id:\n",
        "                break\n",
        "        return generated\n",
        "\n",
        "# Define model parameters\n",
        "if tokenizer:\n",
        "    vocab_size = tokenizer.vocab_size  # Vocabulary size from tokenizer\n",
        "    pad_token_id = tokenizer.pad_token_id if tokenizer.pad_token_id is not None else 0 # Get pad token id\n",
        "    embedding_dim = 128  # Size of word embeddings\n",
        "    hidden_dim = 256  # Number of LSTM units in each direction\n",
        "    output_dim = vocab_size  # Output size matches vocabulary size for predicting next token\n",
        "    num_layers = 2  # Number of LSTM layers\n",
        "    dropout = 0.3  # Dropout rate\n",
        "\n",
        "    # Initialize the model\n",
        "    model = BiLSTMAutocomplete(vocab_size, embedding_dim, hidden_dim, output_dim, num_layers, dropout, pad_token_id)\n",
        "\n",
        "    # Display the model architecture\n",
        "    print(\"\\nModel Architecture:\")\n",
        "    print(model)\n",
        "else:\n",
        "    print(\"Cannot initialize model parameters without a tokenizer.\")\n",
        "    model = None"
      ],
      "metadata": {
        "colab": {
          "base_uri": "https://localhost:8080/"
        },
        "id": "lBbVzC8Ak4Dq",
        "outputId": "8e23f97b-607e-4c36-889b-e9d76e3685fa"
      },
      "execution_count": null,
      "outputs": [
        {
          "output_type": "stream",
          "name": "stdout",
          "text": [
            "\n",
            "Model Architecture:\n",
            "BiLSTMAutocomplete(\n",
            "  (embedding): Embedding(32000, 128, padding_idx=0)\n",
            "  (lstm): LSTM(128, 256, num_layers=2, batch_first=True, dropout=0.3, bidirectional=True)\n",
            "  (dropout): Dropout(p=0.3, inplace=False)\n",
            "  (fc): Linear(in_features=512, out_features=32000, bias=True)\n",
            ")\n"
          ]
        }
      ]
    },
    {
      "cell_type": "code",
      "source": [
        "# Training loop\n",
        "num_epochs = 10  # Number of epochs\n",
        "train_losses = []\n",
        "val_losses = []\n",
        "\n",
        "# Define loss function and optimizer\n",
        "criterion = nn.CrossEntropyLoss()\n",
        "optimizer = optim.Adam(model.parameters())\n",
        "# Define device\n",
        "device = torch.device(\"cuda\" if torch.cuda.is_available() else \"cpu\")\n",
        "print(device)\n",
        "model.to(device)"
      ],
      "metadata": {
        "colab": {
          "base_uri": "https://localhost:8080/"
        },
        "id": "93KT1sAZk4F4",
        "outputId": "e05f4774-1025-4f04-9215-ba90ce9ebc08"
      },
      "execution_count": null,
      "outputs": [
        {
          "output_type": "stream",
          "name": "stdout",
          "text": [
            "cpu\n"
          ]
        },
        {
          "output_type": "execute_result",
          "data": {
            "text/plain": [
              "BiLSTMAutocomplete(\n",
              "  (embedding): Embedding(32000, 128, padding_idx=0)\n",
              "  (lstm): LSTM(128, 256, num_layers=2, batch_first=True, dropout=0.3, bidirectional=True)\n",
              "  (dropout): Dropout(p=0.3, inplace=False)\n",
              "  (fc): Linear(in_features=512, out_features=32000, bias=True)\n",
              ")"
            ]
          },
          "metadata": {},
          "execution_count": 20
        }
      ]
    },
    {
      "cell_type": "code",
      "source": [
        "# assume:\n",
        "#   model       = BiLSTMAutocomplete(...).to(device)\n",
        "#   criterion   = nn.CrossEntropyLoss(ignore_index=pad_token_id)\n",
        "#   optimizer   = torch.optim.Adam(model.parameters(), lr=...)\n",
        "#   train_loader yields (batch_ids, attention_mask) or just batch_ids\n",
        "\n",
        "for epoch in range(num_epochs):\n",
        "    model.train()\n",
        "    total_loss = 0\n",
        "    for batch in train_loader:\n",
        "        # if your loader returns just token IDs:\n",
        "        input_ids = batch.to(device)                 # (B, T)\n",
        "        # else if it also returns attention_mask:\n",
        "        # input_ids, attn = batch\n",
        "        # input_ids, attn = input_ids.to(device), attn.to(device)\n",
        "\n",
        "        # 1) shift for next‐token prediction\n",
        "        inputs  = input_ids[:, :-1]                  # (B, T-1)\n",
        "        targets = input_ids[:, 1:]                   # (B, T-1)\n",
        "\n",
        "        optimizer.zero_grad()\n",
        "        logits = model(inputs)                       # (B, T-1, V)\n",
        "        B, Tm1, V = logits.size()\n",
        "        loss = criterion(\n",
        "            logits.reshape(-1, V),                   # (B*(T-1), V)\n",
        "            targets.reshape(-1)                      # (B*(T-1),)\n",
        "        )\n",
        "        loss.backward()\n",
        "        torch.nn.utils.clip_grad_norm_(model.parameters(), max_norm=1.0)\n",
        "        optimizer.step()\n",
        "\n",
        "        total_loss += loss.item()\n",
        "\n",
        "    avg_train = total_loss / len(train_loader)\n",
        "\n",
        "    # validation\n",
        "    model.eval()\n",
        "    val_loss = 0\n",
        "    with torch.no_grad():\n",
        "        for batch in val_loader:\n",
        "            input_ids = batch.to(device)\n",
        "            inputs  = input_ids[:, :-1]\n",
        "            targets = input_ids[:, 1:]\n",
        "            logits  = model(inputs)\n",
        "            B, Tm1, V = logits.size()\n",
        "            loss = criterion(\n",
        "                logits.reshape(-1, V),\n",
        "                targets.reshape(-1)\n",
        "            )\n",
        "            val_loss += loss.item()\n",
        "    avg_val = val_loss / len(val_loader)\n",
        "\n",
        "    print(f\"Epoch {epoch+1}/{num_epochs}: \"\n",
        "          f\"Train Loss = {avg_train:.4f}, Val Loss = {avg_val:.4f}\")"
      ],
      "metadata": {
        "colab": {
          "base_uri": "https://localhost:8080/"
        },
        "id": "nHUj_sR_tMhL",
        "outputId": "e9bc400c-89fc-494c-f279-51d675b5d895"
      },
      "execution_count": null,
      "outputs": [
        {
          "output_type": "stream",
          "name": "stdout",
          "text": [
            "Epoch 1/10: Train Loss = 8.2996, Val Loss = 7.5669\n",
            "Epoch 2/10: Train Loss = 7.2505, Val Loss = 6.9960\n",
            "Epoch 3/10: Train Loss = 6.6331, Val Loss = 6.3924\n",
            "Epoch 4/10: Train Loss = 5.9790, Val Loss = 5.7627\n"
          ]
        }
      ]
    },
    {
      "cell_type": "code",
      "source": [
        "# save your model\n",
        "torch.save(model.state_dict(), \"bilstm_autocomplete.pt\")\n",
        "# if you have a custom vocab/tokenizer, save it too\n",
        "tokenizer.save_pretrained(\"my_tokenizer_dir\")"
      ],
      "metadata": {
        "colab": {
          "base_uri": "https://localhost:8080/"
        },
        "id": "_Tg0AgnWtMjq",
        "outputId": "f58cde91-3f5c-499c-f10d-9d9895c89c4b"
      },
      "execution_count": null,
      "outputs": [
        {
          "output_type": "execute_result",
          "data": {
            "text/plain": [
              "('my_tokenizer_dir/tokenizer_config.json',\n",
              " 'my_tokenizer_dir/special_tokens_map.json',\n",
              " 'my_tokenizer_dir/vocab.txt',\n",
              " 'my_tokenizer_dir/added_tokens.json',\n",
              " 'my_tokenizer_dir/tokenizer.json')"
            ]
          },
          "metadata": {},
          "execution_count": 36
        }
      ]
    },
    {
      "cell_type": "code",
      "source": [
        "import torch\n",
        "\n",
        "# 1) set device\n",
        "device = torch.device(\"cuda\" if torch.cuda.is_available() else \"cpu\")\n",
        "\n",
        "# 2) rebuild model with the same hyper-parameters you trained with\n",
        "vocab_size   = tokenizer.vocab_size\n",
        "output_dim   = vocab_size   # for LM head\n",
        "pad_token_id = tokenizer.pad_token_id or 0\n",
        "\n",
        "embedding_dim = 128\n",
        "hidden_dim    = 256\n",
        "num_layers    = 2\n",
        "dropout       = 0.3\n",
        "\n",
        "model = BiLSTMAutocomplete(\n",
        "    vocab_size=vocab_size,\n",
        "    embedding_dim=embedding_dim,\n",
        "    hidden_dim=hidden_dim,\n",
        "    output_dim=output_dim,\n",
        "    num_layers=num_layers,\n",
        "    dropout=dropout,\n",
        "    pad_token_id=pad_token_id\n",
        ").to(device)\n",
        "\n",
        "# 3) load your checkpoint\n",
        "state = torch.load(\"bilstm_autocomplete.pt\", map_location=device)\n",
        "model.load_state_dict(state)\n",
        "\n",
        "model.eval()"
      ],
      "metadata": {
        "colab": {
          "base_uri": "https://localhost:8080/"
        },
        "id": "G32byuxNtMl_",
        "outputId": "e2a671b9-0271-4536-85dc-ed710e2d3f4d"
      },
      "execution_count": null,
      "outputs": [
        {
          "output_type": "execute_result",
          "data": {
            "text/plain": [
              "BiLSTMAutocomplete(\n",
              "  (embedding): Embedding(32000, 128, padding_idx=0)\n",
              "  (lstm): LSTM(128, 256, num_layers=2, batch_first=True, dropout=0.3, bidirectional=True)\n",
              "  (dropout): Dropout(p=0.3, inplace=False)\n",
              "  (fc): Linear(in_features=512, out_features=32000, bias=True)\n",
              ")"
            ]
          },
          "metadata": {},
          "execution_count": 38
        }
      ]
    },
    {
      "cell_type": "code",
      "source": [
        "def autocomplete(text, max_new_tokens=10):\n",
        "    enc = tokenizer(\n",
        "        text,\n",
        "        return_tensors=\"pt\",\n",
        "        padding=False,\n",
        "        truncation=True\n",
        "    ).to(device)\n",
        "\n",
        "    with torch.no_grad():\n",
        "        out_ids = model.generate(\n",
        "            input_ids      = enc[\"input_ids\"],\n",
        "            attention_mask = enc.get(\"attention_mask\"),\n",
        "            max_new_tokens = max_new_tokens,\n",
        "            eos_token_id   = tokenizer.eos_token_id\n",
        "        )\n",
        "    return tokenizer.decode(out_ids[0], skip_special_tokens=True)\n",
        "\n",
        "print(autocomplete(\"هذا اختبار\"))"
      ],
      "metadata": {
        "colab": {
          "base_uri": "https://localhost:8080/"
        },
        "id": "TZKA451_tMpa",
        "outputId": "bc6eac1b-913d-4609-8873-dd92cf7c5ab0"
      },
      "execution_count": null,
      "outputs": [
        {
          "output_type": "stream",
          "name": "stdout",
          "text": [
            "هذا اختبار ستوكر خلت الكوكيز ومجلس للانسان ومجلس وشاهد بتعديل البطالة الساحرة\n"
          ]
        }
      ]
    },
    {
      "cell_type": "code",
      "source": [
        "print(autocomplete(\"مصر دولة قوية ومهمة\"))"
      ],
      "metadata": {
        "colab": {
          "base_uri": "https://localhost:8080/"
        },
        "id": "Z4hyVvuYx74y",
        "outputId": "70da9407-f5ff-4cc0-eef9-cb9b747ab341"
      },
      "execution_count": null,
      "outputs": [
        {
          "output_type": "stream",
          "name": "stdout",
          "text": [
            "مصر دولة قوية ومهمة ستوكر كتب ومجلس جز مرجع ェ اساءادور المقاولات اساء\n"
          ]
        }
      ]
    },
    {
      "cell_type": "code",
      "source": [
        "print(autocomplete(\"عمر طالب حاسبات\"))"
      ],
      "metadata": {
        "colab": {
          "base_uri": "https://localhost:8080/"
        },
        "id": "X0iK0vcNx772",
        "outputId": "5d0468ef-4d2b-493d-955e-1c237f7875b5"
      },
      "execution_count": null,
      "outputs": [
        {
          "output_type": "stream",
          "name": "stdout",
          "text": [
            "عمر طالب حاسبات دستوريةη يقع2013 وتنز دستوريةختار وتنز دستورية اطفالنا\n"
          ]
        }
      ]
    },
    {
      "cell_type": "code",
      "source": [],
      "metadata": {
        "id": "D0oevDIJx7_L"
      },
      "execution_count": null,
      "outputs": []
    }
  ]
}